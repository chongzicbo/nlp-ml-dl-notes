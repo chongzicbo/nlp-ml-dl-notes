{
  "nbformat": 4,
  "nbformat_minor": 0,
  "metadata": {
    "colab": {
      "name": "NLP07：基于LSI的文本相似度计算.ipynb",
      "provenance": [],
      "toc_visible": true,
      "mount_file_id": "1CPHi-fCKOQ_-nzclcx-UN23-u4WbxjvM",
      "authorship_tag": "ABX9TyMBvk0/W0bylqcscdmsrbR4",
      "include_colab_link": true
    },
    "kernelspec": {
      "name": "python3",
      "display_name": "Python 3"
    }
  },
  "cells": [
    {
      "cell_type": "markdown",
      "metadata": {
        "id": "view-in-github",
        "colab_type": "text"
      },
      "source": [
        "<a href=\"https://colab.research.google.com/github/chongzicbo/nlp-ml-dl-notes/blob/master/code/nlp_tutorial/NLP07%EF%BC%9A%E5%9F%BA%E4%BA%8ELSI%E7%9A%84%E6%96%87%E6%9C%AC%E7%9B%B8%E4%BC%BC%E5%BA%A6%E8%AE%A1%E7%AE%97.ipynb\" target=\"_parent\"><img src=\"https://colab.research.google.com/assets/colab-badge.svg\" alt=\"Open In Colab\"/></a>"
      ]
    },
    {
      "cell_type": "code",
      "metadata": {
        "id": "tMgd60ftL4NI",
        "colab_type": "code",
        "colab": {}
      },
      "source": [
        "import re\n",
        "from collections import defaultdict\n",
        "import jieba.posseg\n",
        "import numpy as np\n",
        "import codecs\n",
        "import os\n",
        "import pickle\n",
        "from gensim import corpora,models,similarities"
      ],
      "execution_count": 1,
      "outputs": []
    },
    {
      "cell_type": "code",
      "metadata": {
        "id": "pVft18gqLX_l",
        "colab_type": "code",
        "colab": {}
      },
      "source": [
        "def tokenizer(filename, stop_words):\n",
        "    \"\"\"\n",
        "    读取文件内容，并进行分词\n",
        "    :param filename:文件名称\n",
        "    :param stop_words:list,停用词\n",
        "    :return:[[word1,word2]]\n",
        "    \"\"\"\n",
        "    texts = []\n",
        "    with open(filename, \"r\", encoding=\"utf-8\") as f:\n",
        "        for line in f.readlines():\n",
        "            texts.append([token for token, _ in jieba.posseg.cut(line.rstrip()) if token not in stop_words])\n",
        "\n",
        "    # 去除仅出现一次的单词\n",
        "    frequency = defaultdict(int)\n",
        "    for text in texts:\n",
        "        for token in text:\n",
        "            frequency[token] += 1\n",
        "    texts = [[token for token in text if frequency[token] > 1] for text in texts]\n",
        "\n",
        "    return texts"
      ],
      "execution_count": 2,
      "outputs": []
    },
    {
      "cell_type": "code",
      "metadata": {
        "id": "CJl6LYOaMQ2O",
        "colab_type": "code",
        "colab": {
          "base_uri": "https://localhost:8080/",
          "height": 84
        },
        "outputId": "153adf99-9331-492e-81a4-bd9d0d4b623b"
      },
      "source": [
        "stop_words_filepath = \"/content/drive/My Drive/data/qa/data/stop_words.txt\"\n",
        "knowledge_texts_filepath = \"/content/drive/My Drive/data/qa/data/knowledge.txt\"\n",
        "stop_words = codecs.open(stop_words_filepath, \"r\", encoding=\"utf-8\").readlines()\n",
        "stop_words = [w.strip() for w in stop_words]\n",
        "texts = tokenizer(knowledge_texts_filepath, stop_words)"
      ],
      "execution_count": 4,
      "outputs": [
        {
          "output_type": "stream",
          "text": [
            "Building prefix dict from the default dictionary ...\n",
            "Dumping model to file cache /tmp/jieba.cache\n",
            "Loading model cost 1.250 seconds.\n",
            "Prefix dict has been built successfully.\n"
          ],
          "name": "stderr"
        }
      ]
    },
    {
      "cell_type": "code",
      "metadata": {
        "id": "3TRd-GIwMcpy",
        "colab_type": "code",
        "colab": {}
      },
      "source": [
        "def topk_sim_ix(texts,stops,k):\n",
        "    \"\"\"\n",
        "    :param file_name: 分词后的训练样本\n",
        "    :param stop_words:停用词\n",
        "    :param k:与每个文本top k相似度的文本\n",
        "    :return:list\n",
        "    \"\"\"\n",
        "    dictionary = corpora.Dictionary(texts) #构建词典\n",
        "    corpus=[dictionary.doc2bow(text) for text in texts] #bow\n",
        "    # 构建LSI模型\n",
        "    lsi = models.LsiModel(corpus, id2word=dictionary, num_topics=10)  # 潜在语义索引(分析),主题数量为10\n",
        "    index = similarities.MatrixSimilarity(lsi[corpus],num_best=k)  # 计算相似度\n",
        "    vec_lsi=lsi[corpus]\n",
        "    return index[vec_lsi]\n"
      ],
      "execution_count": 11,
      "outputs": []
    },
    {
      "cell_type": "code",
      "metadata": {
        "id": "p-dGzcCKPvuC",
        "colab_type": "code",
        "colab": {
          "base_uri": "https://localhost:8080/",
          "height": 70
        },
        "outputId": "6c25eed4-9afa-4c65-f0e7-10fd8b523ea6"
      },
      "source": [
        "index=topk_sim_ix(texts,stop_words,5)"
      ],
      "execution_count": 12,
      "outputs": [
        {
          "output_type": "stream",
          "text": [
            "/usr/local/lib/python3.6/dist-packages/gensim/matutils.py:737: FutureWarning: Conversion of the second argument of issubdtype from `int` to `np.signedinteger` is deprecated. In future, it will be treated as `np.int64 == np.dtype(int).type`.\n",
            "  if np.issubdtype(vec.dtype, np.int):\n"
          ],
          "name": "stderr"
        }
      ]
    },
    {
      "cell_type": "markdown",
      "metadata": {
        "id": "YOieFL5VSxfo",
        "colab_type": "text"
      },
      "source": [
        "总共11740个文档，每个文档选择5个最相似的文档"
      ]
    },
    {
      "cell_type": "code",
      "metadata": {
        "id": "yMdMNJSLP1vw",
        "colab_type": "code",
        "colab": {
          "base_uri": "https://localhost:8080/",
          "height": 34
        },
        "outputId": "31005258-9068-4896-875c-d41b1f2b4042"
      },
      "source": [
        "len(index),len(texts),len(index[0])"
      ],
      "execution_count": 15,
      "outputs": [
        {
          "output_type": "execute_result",
          "data": {
            "text/plain": [
              "(11740, 11740, 5)"
            ]
          },
          "metadata": {
            "tags": []
          },
          "execution_count": 15
        }
      ]
    },
    {
      "cell_type": "markdown",
      "metadata": {
        "id": "jmZYsFIDS_tI",
        "colab_type": "text"
      },
      "source": [
        "第一个文档，除了文档本身外，最相似的就是第123、39、3985、11176个文档"
      ]
    },
    {
      "cell_type": "markdown",
      "metadata": {
        "id": "4jSfs20QYXYP",
        "colab_type": "text"
      },
      "source": [
        ""
      ]
    },
    {
      "cell_type": "code",
      "metadata": {
        "id": "xG6cLh1hP4Bp",
        "colab_type": "code",
        "colab": {
          "base_uri": "https://localhost:8080/",
          "height": 101
        },
        "outputId": "249d7636-dfdf-4230-dba6-44d35f4053ed"
      },
      "source": [
        "index[0]"
      ],
      "execution_count": 16,
      "outputs": [
        {
          "output_type": "execute_result",
          "data": {
            "text/plain": [
              "[(0, 1.0),\n",
              " (123, 0.9995017647743225),\n",
              " (39, 0.9973140954971313),\n",
              " (3985, 0.9969135522842407),\n",
              " (11176, 0.9967408776283264)]"
            ]
          },
          "metadata": {
            "tags": []
          },
          "execution_count": 16
        }
      ]
    },
    {
      "cell_type": "code",
      "metadata": {
        "id": "I0QST1AOS89Z",
        "colab_type": "code",
        "colab": {
          "base_uri": "https://localhost:8080/",
          "height": 101
        },
        "outputId": "25bb591a-d85e-43d8-b36f-6b684591f494"
      },
      "source": [
        "for index_text in index[0]:\n",
        "    print(texts[index_text[0]],index_text[1])"
      ],
      "execution_count": 18,
      "outputs": [
        {
          "output_type": "stream",
          "text": [
            "['地球', '宇宙', '中', '一颗', '行星', '运动', '规律'] 1.0\n",
            "['地球', '自转', '照片', '中', '每颗', '星', '运动', '轨迹', '呈', '一段', '弧线'] 0.9995017647743225\n",
            "['太阳系', '八颗', '行星', '中', '地球', '唯一', '一颗', '适合', '生物', '生存', '繁衍', '行星'] 0.9973140954971313\n",
            "['式', '中', '已知', '水星', '金星', '地球', '火星', '木星', '土星', 'n', '值', '取'] 0.9969135522842407\n",
            "['大气圈', '指', '包裹', '地球', '气体', '层', '气体', '中', '悬浮物', '厚度', '2000', '3000', '千米'] 0.9967408776283264\n"
          ],
          "name": "stdout"
        }
      ]
    },
    {
      "cell_type": "code",
      "metadata": {
        "id": "Pm2XoG4QToyD",
        "colab_type": "code",
        "colab": {}
      },
      "source": [
        ""
      ],
      "execution_count": null,
      "outputs": []
    }
  ]
}