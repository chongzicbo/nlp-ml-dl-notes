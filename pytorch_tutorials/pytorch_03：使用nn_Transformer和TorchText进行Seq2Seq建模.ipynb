{
  "nbformat": 4,
  "nbformat_minor": 0,
  "metadata": {
    "colab": {
      "name": "pytorch_03：使用nn.Transformer和TorchText进行Seq2Seq建模.ipynb",
      "provenance": [],
      "collapsed_sections": [],
      "authorship_tag": "ABX9TyOAKFrT1j80ukgLptI+E5gA",
      "include_colab_link": true
    },
    "kernelspec": {
      "name": "python3",
      "display_name": "Python 3"
    },
    "accelerator": "GPU"
  },
  "cells": [
    {
      "cell_type": "markdown",
      "metadata": {
        "id": "view-in-github",
        "colab_type": "text"
      },
      "source": [
        "<a href=\"https://colab.research.google.com/github/chongzicbo/nlp-ml-dl-notes/blob/master/pytorch_tutorials/pytorch_03%EF%BC%9A%E4%BD%BF%E7%94%A8nn_Transformer%E5%92%8CTorchText%E8%BF%9B%E8%A1%8CSeq2Seq%E5%BB%BA%E6%A8%A1.ipynb\" target=\"_parent\"><img src=\"https://colab.research.google.com/assets/colab-badge.svg\" alt=\"Open In Colab\"/></a>"
      ]
    },
    {
      "cell_type": "code",
      "metadata": {
        "id": "ik5ae41PSb11",
        "colab_type": "code",
        "colab": {}
      },
      "source": [
        "import math\n",
        "import torch\n",
        "import torch.nn as nn\n",
        "import torch.nn.functional as F\n",
        "from torch.nn import TransformerEncoder,TransformerEncoderLayer"
      ],
      "execution_count": 0,
      "outputs": []
    },
    {
      "cell_type": "code",
      "metadata": {
        "id": "WlUVJj82Uvv9",
        "colab_type": "code",
        "colab": {}
      },
      "source": [
        "class TransformerModel(nn.Module):\n",
        "  def __init__(self,n_token,ninp,nhead,nhid,nlayers,dropout=0.5):\n",
        "    super(TransformerModel,self).__init__()\n",
        "    self.model_type='Transformer'\n",
        "    self.src_mask=None\n",
        "    self.pos_encoder=PositionalEncoding(ninp,dropout)\n",
        "    encoder_layers=TransformerEncoderLayer(d_model=ninp,nhead=nhead,dim_feedforward=nhid,dropout=dropout)\n",
        "    self.transformer_encoder=TransformerEncoder(encoder_layer=encoder_layers,num_layers=nlayers)\n",
        "    self.encoder=nn.Embedding(n_token,ninp)\n",
        "    self.ninp=ninp\n",
        "    self.decoder=nn.Linear(ninp,n_token)\n",
        "\n",
        "    self.init_weights()\n",
        "\n",
        "  def _generate_square_subsequent_mask(self,sz):\n",
        "    mask=(torch.triu(torch.ones(sz,sz))==1).transpose(0,1) #torch.triu:返回矩阵上三角;transpose以后返回矩阵下三角\n",
        "    mask=mask.float().masked_fill(mask==0,float('-inf')).masked_fill(mask==1,float(0.0)) #现在等于0的位置填充-inf,然后在等于1的位置填充0\n",
        "    return mask\n",
        "\n",
        "  def init_weights(self):\n",
        "    initrange=0.1\n",
        "    self.encoder.weight.data.uniform_(-initrange,initrange)\n",
        "    self.decoder.bias.data.zero_()\n",
        "    self.decoder.weight.data.uniform_(-initrange,initrange)\n",
        "\n",
        "  def forward(self,src):\n",
        "    if self.src_mask is None or self.src_mask.size(0)!=len(src):\n",
        "      device=src.device\n",
        "      mask=self._generate_square_subsequent_mask(len(src)).to(device)\n",
        "      self.src_mask=mask\n",
        "\n",
        "    src=self.encoder(src)*math.sqrt(self.ninp) ##进行word Embedding\n",
        "    src=self.pos_encoder(src) #word Embdeeing + positional_embedding\n",
        "    output=self.transformer_encoder(src,self.src_mask)#src shape位[序列长度,batch_size,embedding向量维度]\n",
        "    output=self.decoder(output) #全连接层\n",
        "    return output"
      ],
      "execution_count": 0,
      "outputs": []
    },
    {
      "cell_type": "code",
      "metadata": {
        "id": "LucfoJiD9OKB",
        "colab_type": "code",
        "colab": {}
      },
      "source": [
        "class PositionalEncoding(nn.Module):\n",
        "  def __init__(self,d_model,dropout=0.1,max_len=5000):\n",
        "    super(PositionalEncoding,self).__init__()\n",
        "    self.dropout=nn.Dropout(p=dropout)\n",
        "    pe=torch.zeros(max_len,d_model)\n",
        "    position=torch.arange(0,max_len,dtype=torch.float).unsqueeze(1)\n",
        "    div_term=torch.exp(torch.arange(0,d_model,2).float()*(-math.log(10000.0)/d_model))\n",
        "    pe[:,0::2]=torch.sin(position*div_term)\n",
        "    pe[:,1::2]=torch.cos(position*div_term)\n",
        "    pe=pe.unsqueeze(0).transpose(0,1)\n",
        "    self.register_buffer('pe',pe)\n",
        "\n",
        "  def forward(self,x):\n",
        "    x=x+self.pe[:x.size(0),:]\n",
        "    return self.dropout(x)"
      ],
      "execution_count": 0,
      "outputs": []
    },
    {
      "cell_type": "code",
      "metadata": {
        "id": "jTgAr08bHUM3",
        "colab_type": "code",
        "colab": {
          "base_uri": "https://localhost:8080/",
          "height": 68
        },
        "outputId": "8daa021a-faeb-4e99-b4b7-10f47d1394eb"
      },
      "source": [
        "mask=(torch.triu(torch.ones(3,3))==1).transpose(0,1)\n",
        "mask=mask.float().masked_fill(mask==0,float('-inf')).masked_fill(mask==1,float(0.0))\n",
        "mask"
      ],
      "execution_count": 5,
      "outputs": [
        {
          "output_type": "execute_result",
          "data": {
            "text/plain": [
              "tensor([[0., -inf, -inf],\n",
              "        [0., 0., -inf],\n",
              "        [0., 0., 0.]])"
            ]
          },
          "metadata": {
            "tags": []
          },
          "execution_count": 5
        }
      ]
    },
    {
      "cell_type": "code",
      "metadata": {
        "id": "wQizC5qMIpeG",
        "colab_type": "code",
        "colab": {
          "base_uri": "https://localhost:8080/",
          "height": 34
        },
        "outputId": "eb35eda5-a475-49e4-8dc6-4ed81c0edf3b"
      },
      "source": [
        "a=torch.arange(0,5000,dtype=torch.float).unsqueeze(1)\n",
        "a.shape"
      ],
      "execution_count": 10,
      "outputs": [
        {
          "output_type": "execute_result",
          "data": {
            "text/plain": [
              "torch.Size([5000, 1])"
            ]
          },
          "metadata": {
            "tags": []
          },
          "execution_count": 10
        }
      ]
    },
    {
      "cell_type": "code",
      "metadata": {
        "id": "o5FXU-NYZTtS",
        "colab_type": "code",
        "colab": {
          "base_uri": "https://localhost:8080/",
          "height": 34
        },
        "outputId": "60e0b985-fea4-418e-c925-fe5f535e0295"
      },
      "source": [
        "d_model=2048\n",
        "b=torch.exp(torch.arange(0,d_model,2).float()*(-math.log(10000.0)/d_model))\n",
        "b.shape"
      ],
      "execution_count": 11,
      "outputs": [
        {
          "output_type": "execute_result",
          "data": {
            "text/plain": [
              "torch.Size([1024])"
            ]
          },
          "metadata": {
            "tags": []
          },
          "execution_count": 11
        }
      ]
    },
    {
      "cell_type": "code",
      "metadata": {
        "id": "m3Ns-XQOZujP",
        "colab_type": "code",
        "colab": {}
      },
      "source": [
        "import torchtext\n",
        "from torchtext.data.utils import get_tokenizer"
      ],
      "execution_count": 0,
      "outputs": []
    },
    {
      "cell_type": "code",
      "metadata": {
        "id": "MtzE_uCGP8b4",
        "colab_type": "code",
        "colab": {
          "base_uri": "https://localhost:8080/",
          "height": 467
        },
        "outputId": "6e84d698-710e-40a8-dccf-0697015fd65a"
      },
      "source": [
        "!pip install torchtext==0.5"
      ],
      "execution_count": 7,
      "outputs": [
        {
          "output_type": "stream",
          "text": [
            "Collecting torchtext==0.5\n",
            "\u001b[?25l  Downloading https://files.pythonhosted.org/packages/79/ef/54b8da26f37787f5c670ae2199329e7dccf195c060b25628d99e587dac51/torchtext-0.5.0-py3-none-any.whl (73kB)\n",
            "\r\u001b[K     |████▌                           | 10kB 29.2MB/s eta 0:00:01\r\u001b[K     |█████████                       | 20kB 6.3MB/s eta 0:00:01\r\u001b[K     |█████████████▍                  | 30kB 7.6MB/s eta 0:00:01\r\u001b[K     |██████████████████              | 40kB 5.9MB/s eta 0:00:01\r\u001b[K     |██████████████████████▍         | 51kB 6.3MB/s eta 0:00:01\r\u001b[K     |██████████████████████████▉     | 61kB 7.4MB/s eta 0:00:01\r\u001b[K     |███████████████████████████████▍| 71kB 8.4MB/s eta 0:00:01\r\u001b[K     |████████████████████████████████| 81kB 5.1MB/s \n",
            "\u001b[?25hCollecting sentencepiece\n",
            "\u001b[?25l  Downloading https://files.pythonhosted.org/packages/74/f4/2d5214cbf13d06e7cb2c20d84115ca25b53ea76fa1f0ade0e3c9749de214/sentencepiece-0.1.85-cp36-cp36m-manylinux1_x86_64.whl (1.0MB)\n",
            "\r\u001b[K     |▎                               | 10kB 36.5MB/s eta 0:00:01\r\u001b[K     |▋                               | 20kB 24.3MB/s eta 0:00:01\r\u001b[K     |█                               | 30kB 31.2MB/s eta 0:00:01\r\u001b[K     |█▎                              | 40kB 22.9MB/s eta 0:00:01\r\u001b[K     |█▋                              | 51kB 14.0MB/s eta 0:00:01\r\u001b[K     |██                              | 61kB 16.1MB/s eta 0:00:01\r\u001b[K     |██▏                             | 71kB 15.6MB/s eta 0:00:01\r\u001b[K     |██▌                             | 81kB 14.7MB/s eta 0:00:01\r\u001b[K     |██▉                             | 92kB 16.1MB/s eta 0:00:01\r\u001b[K     |███▏                            | 102kB 14.9MB/s eta 0:00:01\r\u001b[K     |███▌                            | 112kB 14.9MB/s eta 0:00:01\r\u001b[K     |███▉                            | 122kB 14.9MB/s eta 0:00:01\r\u001b[K     |████                            | 133kB 14.9MB/s eta 0:00:01\r\u001b[K     |████▍                           | 143kB 14.9MB/s eta 0:00:01\r\u001b[K     |████▊                           | 153kB 14.9MB/s eta 0:00:01\r\u001b[K     |█████                           | 163kB 14.9MB/s eta 0:00:01\r\u001b[K     |█████▍                          | 174kB 14.9MB/s eta 0:00:01\r\u001b[K     |█████▊                          | 184kB 14.9MB/s eta 0:00:01\r\u001b[K     |██████                          | 194kB 14.9MB/s eta 0:00:01\r\u001b[K     |██████▎                         | 204kB 14.9MB/s eta 0:00:01\r\u001b[K     |██████▋                         | 215kB 14.9MB/s eta 0:00:01\r\u001b[K     |███████                         | 225kB 14.9MB/s eta 0:00:01\r\u001b[K     |███████▎                        | 235kB 14.9MB/s eta 0:00:01\r\u001b[K     |███████▋                        | 245kB 14.9MB/s eta 0:00:01\r\u001b[K     |███████▉                        | 256kB 14.9MB/s eta 0:00:01\r\u001b[K     |████████▏                       | 266kB 14.9MB/s eta 0:00:01\r\u001b[K     |████████▌                       | 276kB 14.9MB/s eta 0:00:01\r\u001b[K     |████████▉                       | 286kB 14.9MB/s eta 0:00:01\r\u001b[K     |█████████▏                      | 296kB 14.9MB/s eta 0:00:01\r\u001b[K     |█████████▌                      | 307kB 14.9MB/s eta 0:00:01\r\u001b[K     |█████████▊                      | 317kB 14.9MB/s eta 0:00:01\r\u001b[K     |██████████                      | 327kB 14.9MB/s eta 0:00:01\r\u001b[K     |██████████▍                     | 337kB 14.9MB/s eta 0:00:01\r\u001b[K     |██████████▊                     | 348kB 14.9MB/s eta 0:00:01\r\u001b[K     |███████████                     | 358kB 14.9MB/s eta 0:00:01\r\u001b[K     |███████████▍                    | 368kB 14.9MB/s eta 0:00:01\r\u001b[K     |███████████▋                    | 378kB 14.9MB/s eta 0:00:01\r\u001b[K     |████████████                    | 389kB 14.9MB/s eta 0:00:01\r\u001b[K     |████████████▎                   | 399kB 14.9MB/s eta 0:00:01\r\u001b[K     |████████████▋                   | 409kB 14.9MB/s eta 0:00:01\r\u001b[K     |█████████████                   | 419kB 14.9MB/s eta 0:00:01\r\u001b[K     |█████████████▎                  | 430kB 14.9MB/s eta 0:00:01\r\u001b[K     |█████████████▌                  | 440kB 14.9MB/s eta 0:00:01\r\u001b[K     |█████████████▉                  | 450kB 14.9MB/s eta 0:00:01\r\u001b[K     |██████████████▏                 | 460kB 14.9MB/s eta 0:00:01\r\u001b[K     |██████████████▌                 | 471kB 14.9MB/s eta 0:00:01\r\u001b[K     |██████████████▉                 | 481kB 14.9MB/s eta 0:00:01\r\u001b[K     |███████████████▏                | 491kB 14.9MB/s eta 0:00:01\r\u001b[K     |███████████████▍                | 501kB 14.9MB/s eta 0:00:01\r\u001b[K     |███████████████▊                | 512kB 14.9MB/s eta 0:00:01\r\u001b[K     |████████████████                | 522kB 14.9MB/s eta 0:00:01\r\u001b[K     |████████████████▍               | 532kB 14.9MB/s eta 0:00:01\r\u001b[K     |████████████████▊               | 542kB 14.9MB/s eta 0:00:01\r\u001b[K     |█████████████████               | 552kB 14.9MB/s eta 0:00:01\r\u001b[K     |█████████████████▎              | 563kB 14.9MB/s eta 0:00:01\r\u001b[K     |█████████████████▋              | 573kB 14.9MB/s eta 0:00:01\r\u001b[K     |██████████████████              | 583kB 14.9MB/s eta 0:00:01\r\u001b[K     |██████████████████▎             | 593kB 14.9MB/s eta 0:00:01\r\u001b[K     |██████████████████▋             | 604kB 14.9MB/s eta 0:00:01\r\u001b[K     |███████████████████             | 614kB 14.9MB/s eta 0:00:01\r\u001b[K     |███████████████████▏            | 624kB 14.9MB/s eta 0:00:01\r\u001b[K     |███████████████████▌            | 634kB 14.9MB/s eta 0:00:01\r\u001b[K     |███████████████████▉            | 645kB 14.9MB/s eta 0:00:01\r\u001b[K     |████████████████████▏           | 655kB 14.9MB/s eta 0:00:01\r\u001b[K     |████████████████████▌           | 665kB 14.9MB/s eta 0:00:01\r\u001b[K     |████████████████████▉           | 675kB 14.9MB/s eta 0:00:01\r\u001b[K     |█████████████████████▏          | 686kB 14.9MB/s eta 0:00:01\r\u001b[K     |█████████████████████▍          | 696kB 14.9MB/s eta 0:00:01\r\u001b[K     |█████████████████████▊          | 706kB 14.9MB/s eta 0:00:01\r\u001b[K     |██████████████████████          | 716kB 14.9MB/s eta 0:00:01\r\u001b[K     |██████████████████████▍         | 727kB 14.9MB/s eta 0:00:01\r\u001b[K     |██████████████████████▊         | 737kB 14.9MB/s eta 0:00:01\r\u001b[K     |███████████████████████         | 747kB 14.9MB/s eta 0:00:01\r\u001b[K     |███████████████████████▎        | 757kB 14.9MB/s eta 0:00:01\r\u001b[K     |███████████████████████▋        | 768kB 14.9MB/s eta 0:00:01\r\u001b[K     |████████████████████████        | 778kB 14.9MB/s eta 0:00:01\r\u001b[K     |████████████████████████▎       | 788kB 14.9MB/s eta 0:00:01\r\u001b[K     |████████████████████████▋       | 798kB 14.9MB/s eta 0:00:01\r\u001b[K     |█████████████████████████       | 808kB 14.9MB/s eta 0:00:01\r\u001b[K     |█████████████████████████▏      | 819kB 14.9MB/s eta 0:00:01\r\u001b[K     |█████████████████████████▌      | 829kB 14.9MB/s eta 0:00:01\r\u001b[K     |█████████████████████████▉      | 839kB 14.9MB/s eta 0:00:01\r\u001b[K     |██████████████████████████▏     | 849kB 14.9MB/s eta 0:00:01\r\u001b[K     |██████████████████████████▌     | 860kB 14.9MB/s eta 0:00:01\r\u001b[K     |██████████████████████████▉     | 870kB 14.9MB/s eta 0:00:01\r\u001b[K     |███████████████████████████     | 880kB 14.9MB/s eta 0:00:01\r\u001b[K     |███████████████████████████▍    | 890kB 14.9MB/s eta 0:00:01\r\u001b[K     |███████████████████████████▊    | 901kB 14.9MB/s eta 0:00:01\r\u001b[K     |████████████████████████████    | 911kB 14.9MB/s eta 0:00:01\r\u001b[K     |████████████████████████████▍   | 921kB 14.9MB/s eta 0:00:01\r\u001b[K     |████████████████████████████▊   | 931kB 14.9MB/s eta 0:00:01\r\u001b[K     |█████████████████████████████   | 942kB 14.9MB/s eta 0:00:01\r\u001b[K     |█████████████████████████████▎  | 952kB 14.9MB/s eta 0:00:01\r\u001b[K     |█████████████████████████████▋  | 962kB 14.9MB/s eta 0:00:01\r\u001b[K     |██████████████████████████████  | 972kB 14.9MB/s eta 0:00:01\r\u001b[K     |██████████████████████████████▎ | 983kB 14.9MB/s eta 0:00:01\r\u001b[K     |██████████████████████████████▋ | 993kB 14.9MB/s eta 0:00:01\r\u001b[K     |██████████████████████████████▉ | 1.0MB 14.9MB/s eta 0:00:01\r\u001b[K     |███████████████████████████████▏| 1.0MB 14.9MB/s eta 0:00:01\r\u001b[K     |███████████████████████████████▌| 1.0MB 14.9MB/s eta 0:00:01\r\u001b[K     |███████████████████████████████▉| 1.0MB 14.9MB/s eta 0:00:01\r\u001b[K     |████████████████████████████████| 1.0MB 14.9MB/s \n",
            "\u001b[?25hRequirement already satisfied: tqdm in /usr/local/lib/python3.6/dist-packages (from torchtext==0.5) (4.28.1)\n",
            "Requirement already satisfied: requests in /usr/local/lib/python3.6/dist-packages (from torchtext==0.5) (2.21.0)\n",
            "Requirement already satisfied: six in /usr/local/lib/python3.6/dist-packages (from torchtext==0.5) (1.12.0)\n",
            "Requirement already satisfied: numpy in /usr/local/lib/python3.6/dist-packages (from torchtext==0.5) (1.17.5)\n",
            "Requirement already satisfied: torch in /usr/local/lib/python3.6/dist-packages (from torchtext==0.5) (1.4.0)\n",
            "Requirement already satisfied: chardet<3.1.0,>=3.0.2 in /usr/local/lib/python3.6/dist-packages (from requests->torchtext==0.5) (3.0.4)\n",
            "Requirement already satisfied: idna<2.9,>=2.5 in /usr/local/lib/python3.6/dist-packages (from requests->torchtext==0.5) (2.8)\n",
            "Requirement already satisfied: certifi>=2017.4.17 in /usr/local/lib/python3.6/dist-packages (from requests->torchtext==0.5) (2019.11.28)\n",
            "Requirement already satisfied: urllib3<1.25,>=1.21.1 in /usr/local/lib/python3.6/dist-packages (from requests->torchtext==0.5) (1.24.3)\n",
            "Installing collected packages: sentencepiece, torchtext\n",
            "  Found existing installation: torchtext 0.3.1\n",
            "    Uninstalling torchtext-0.3.1:\n",
            "      Successfully uninstalled torchtext-0.3.1\n",
            "Successfully installed sentencepiece-0.1.85 torchtext-0.5.0\n"
          ],
          "name": "stdout"
        },
        {
          "output_type": "display_data",
          "data": {
            "application/vnd.colab-display-data+json": {
              "pip_warning": {
                "packages": [
                  "torchtext"
                ]
              }
            }
          },
          "metadata": {
            "tags": []
          }
        }
      ]
    },
    {
      "cell_type": "code",
      "metadata": {
        "id": "QmnVNs8eM4Iv",
        "colab_type": "code",
        "colab": {}
      },
      "source": [
        "TEXT=torchtext.data.Field(tokenize=get_tokenizer('basic_english'),init_token='<sos>',eos_token='<eos>',lower=True)\n",
        "train_txt,val_txt,test_txt=torchtext.datasets.WikiText2.splits(TEXT)\n",
        "TEXT.build_vocab(train_txt)\n",
        "device=torch.device(\"cuda\" if torch.cuda.is_available() else 'cpu')\n",
        "\n",
        "def batchify(data,bsz):\n",
        "  data=TEXT.numericalize([data.examples[0].text])\n",
        "  nbatch=data.size(0)//bsz\n",
        "  data=data.narrow(0,0,nbatch*bsz)\n",
        "  data=data.view(bsz,-1).t().contiguous()\n",
        "  return data.to(device)\n",
        "\n"
      ],
      "execution_count": 0,
      "outputs": []
    },
    {
      "cell_type": "code",
      "metadata": {
        "id": "_XlDagjqPpdT",
        "colab_type": "code",
        "colab": {
          "base_uri": "https://localhost:8080/",
          "height": 136
        },
        "outputId": "a2549b2e-c6f4-4243-ab5c-5b6b685f5e2b"
      },
      "source": [
        "TEXT.numericalize([train_txt.examples[0].text])"
      ],
      "execution_count": 13,
      "outputs": [
        {
          "output_type": "execute_result",
          "data": {
            "text/plain": [
              "tensor([[   3],\n",
              "        [  12],\n",
              "        [3852],\n",
              "        ...,\n",
              "        [   6],\n",
              "        [   3],\n",
              "        [   3]])"
            ]
          },
          "metadata": {
            "tags": []
          },
          "execution_count": 13
        }
      ]
    },
    {
      "cell_type": "code",
      "metadata": {
        "id": "lUeBZYKZQYP8",
        "colab_type": "code",
        "colab": {}
      },
      "source": [
        "batch_size=20\n",
        "eval_batch_size=10\n",
        "train_data=batchify(train_txt,batch_size)\n",
        "val_data=batchify(val_txt,eval_batch_size)\n",
        "test_data=batchify(test_txt,eval_batch_size)"
      ],
      "execution_count": 0,
      "outputs": []
    },
    {
      "cell_type": "code",
      "metadata": {
        "id": "WqWe1P75TjaW",
        "colab_type": "code",
        "colab": {
          "base_uri": "https://localhost:8080/",
          "height": 34
        },
        "outputId": "341004bc-9259-4f59-883a-e9631b99ba6d"
      },
      "source": [
        "train_data.shape,val_data.shape"
      ],
      "execution_count": 16,
      "outputs": [
        {
          "output_type": "execute_result",
          "data": {
            "text/plain": [
              "(torch.Size([104335, 20]), torch.Size([21817, 10]))"
            ]
          },
          "metadata": {
            "tags": []
          },
          "execution_count": 16
        }
      ]
    },
    {
      "cell_type": "code",
      "metadata": {
        "id": "u4RrHT7HTt9L",
        "colab_type": "code",
        "colab": {}
      },
      "source": [
        "bptt=35\n",
        "def get_batch(source,i):\n",
        "  seq_len=min(bptt,len(source)-1-i)\n",
        "  data=source[i:i+seq_len]\n",
        "  target=source[i+1:i+1+seq_len].view(-1)\n",
        "  return data,target"
      ],
      "execution_count": 0,
      "outputs": []
    },
    {
      "cell_type": "code",
      "metadata": {
        "id": "i3AHU-YmVHl4",
        "colab_type": "code",
        "colab": {}
      },
      "source": [
        "ntokens=len(TEXT.vocab.stoi)\n",
        "emsize=200\n",
        "nhid=200\n",
        "nlayers=2\n",
        "nhead=2\n",
        "dropout=0.2\n",
        "model=TransformerModel(n_token=ntokens,ninp=emsize,nhead=nhead,nhid=nhid,nlayers=nlayers,dropout=dropout).to(device)"
      ],
      "execution_count": 0,
      "outputs": []
    },
    {
      "cell_type": "code",
      "metadata": {
        "id": "NejQTOFPeBjy",
        "colab_type": "code",
        "colab": {}
      },
      "source": [
        "data,targets=get_batch(train_data,0)"
      ],
      "execution_count": 0,
      "outputs": []
    },
    {
      "cell_type": "code",
      "metadata": {
        "id": "8_4P0AjCeEIQ",
        "colab_type": "code",
        "colab": {
          "base_uri": "https://localhost:8080/",
          "height": 34
        },
        "outputId": "8ada1c59-00c3-4098-9776-58d67ad92170"
      },
      "source": [
        "data.shape,targets.shape"
      ],
      "execution_count": 30,
      "outputs": [
        {
          "output_type": "execute_result",
          "data": {
            "text/plain": [
              "(torch.Size([35, 20]), torch.Size([700]))"
            ]
          },
          "metadata": {
            "tags": []
          },
          "execution_count": 30
        }
      ]
    },
    {
      "cell_type": "code",
      "metadata": {
        "id": "0M4vClNvV1dW",
        "colab_type": "code",
        "colab": {}
      },
      "source": [
        "criterion=nn.CrossEntropyLoss()\n",
        "lr=5.0\n",
        "optimizer=torch.optim.SGD(model.parameters(),lr=lr)\n",
        "scheduler=torch.optim.lr_scheduler.StepLR(optimizer,1.0,gamma=0.95)\n",
        "\n",
        "import time\n",
        "def train():\n",
        "  model.train()\n",
        "  total_loss=0\n",
        "  start_time=time.time()\n",
        "  ntokens=len(TEXT.vocab.stoi)\n",
        "  for batch,i in enumerate(range(0,train_data.size(0)-1,bptt)):\n",
        "    data,targets=get_batch(train_data,i)\n",
        "    optimizer.zero_grad()\n",
        "    output=model(data)\n",
        "    # print(output.shape)\n",
        "    loss=criterion(output.view(-1,ntokens),targets)\n",
        "    loss.backward()\n",
        "    torch.nn.utils.clip_grad_norm_(model.parameters(),0.5)\n",
        "    optimizer.step()\n",
        "\n",
        "    total_loss+=loss.item()\n",
        "    log_interval=200\n",
        "    log_interval = 200\n",
        "    if batch % log_interval == 0 and batch > 0:\n",
        "      cur_loss = total_loss / log_interval\n",
        "      elapsed = time.time() - start_time\n",
        "      print('| epoch {:3d} | {:5d}/{:5d} batches | '\n",
        "            'lr {:02.2f} | ms/batch {:5.2f} | '\n",
        "            'loss {:5.2f} | ppl {:8.2f}'.format(\n",
        "              epoch, batch, len(train_data) // bptt, scheduler.get_lr()[0],\n",
        "              elapsed * 1000 / log_interval,\n",
        "              cur_loss, math.exp(cur_loss)))\n",
        "      total_loss = 0\n",
        "      start_time = time.time()\n"
      ],
      "execution_count": 0,
      "outputs": []
    },
    {
      "cell_type": "code",
      "metadata": {
        "id": "g1ZYKKh3ZIZ4",
        "colab_type": "code",
        "colab": {}
      },
      "source": [
        "def evaluate(eval_model, data_source):\n",
        "    eval_model.eval() # Turn on the evaluation mode\n",
        "    total_loss = 0.\n",
        "    ntokens = len(TEXT.vocab.stoi)\n",
        "    with torch.no_grad():\n",
        "        for i in range(0, data_source.size(0) - 1, bptt):\n",
        "            data, targets = get_batch(data_source, i)\n",
        "            output = eval_model(data)\n",
        "            output_flat = output.view(-1, ntokens)\n",
        "            total_loss += len(data) * criterion(output_flat, targets).item()\n",
        "    return total_loss / (len(data_source) - 1)"
      ],
      "execution_count": 0,
      "outputs": []
    },
    {
      "cell_type": "code",
      "metadata": {
        "id": "jficOdpYZQBn",
        "colab_type": "code",
        "colab": {
          "base_uri": "https://localhost:8080/",
          "height": 714
        },
        "outputId": "17131afd-bb5f-4350-ed27-380be8c07cd5"
      },
      "source": [
        "best_val_loss = float(\"inf\")\n",
        "epochs = 3 # The number of epochs\n",
        "best_model = None\n",
        "\n",
        "for epoch in range(1, epochs + 1):\n",
        "    epoch_start_time = time.time()\n",
        "    train()\n",
        "    val_loss = evaluate(model, val_data)\n",
        "    print('-' * 89)\n",
        "    print('| end of epoch {:3d} | time: {:5.2f}s | valid loss {:5.2f} | '\n",
        "          'valid ppl {:8.2f}'.format(epoch, (time.time() - epoch_start_time),\n",
        "                                     val_loss, math.exp(val_loss)))\n",
        "    print('-' * 89)\n",
        "\n",
        "    if val_loss < best_val_loss:\n",
        "        best_val_loss = val_loss\n",
        "        best_model = model\n",
        "\n",
        "    scheduler.step()"
      ],
      "execution_count": 0,
      "outputs": [
        {
          "output_type": "stream",
          "text": [
            "| epoch   1 |   200/ 2981 batches | lr 5.00 | ms/batch 18.84 | loss  5.15 | ppl   172.14\n",
            "| epoch   1 |   400/ 2981 batches | lr 5.00 | ms/batch 18.56 | loss  5.15 | ppl   172.61\n",
            "| epoch   1 |   600/ 2981 batches | lr 5.00 | ms/batch 18.92 | loss  4.95 | ppl   141.86\n",
            "| epoch   1 |   800/ 2981 batches | lr 5.00 | ms/batch 18.63 | loss  5.13 | ppl   168.30\n",
            "| epoch   1 |  1000/ 2981 batches | lr 5.00 | ms/batch 19.11 | loss  5.18 | ppl   177.67\n",
            "| epoch   1 |  1200/ 2981 batches | lr 5.00 | ms/batch 19.24 | loss  5.34 | ppl   209.16\n",
            "| epoch   1 |  1400/ 2981 batches | lr 5.00 | ms/batch 19.32 | loss  5.38 | ppl   218.02\n",
            "| epoch   1 |  1600/ 2981 batches | lr 5.00 | ms/batch 19.30 | loss  5.43 | ppl   227.32\n",
            "| epoch   1 |  1800/ 2981 batches | lr 5.00 | ms/batch 19.16 | loss  5.36 | ppl   213.04\n",
            "| epoch   1 |  2000/ 2981 batches | lr 5.00 | ms/batch 18.80 | loss  5.39 | ppl   219.57\n",
            "| epoch   1 |  2200/ 2981 batches | lr 5.00 | ms/batch 19.02 | loss  5.27 | ppl   194.07\n",
            "| epoch   1 |  2400/ 2981 batches | lr 5.00 | ms/batch 18.61 | loss  5.35 | ppl   210.49\n",
            "| epoch   1 |  2600/ 2981 batches | lr 5.00 | ms/batch 18.92 | loss  5.36 | ppl   212.65\n",
            "| epoch   1 |  2800/ 2981 batches | lr 5.00 | ms/batch 18.71 | loss  5.31 | ppl   202.46\n",
            "-----------------------------------------------------------------------------------------\n",
            "| end of epoch   1 | time: 58.95s | valid loss  5.47 | valid ppl   238.20\n",
            "-----------------------------------------------------------------------------------------\n",
            "| epoch   2 |   200/ 2981 batches | lr 4.51 | ms/batch 18.69 | loss  5.12 | ppl   167.87\n",
            "| epoch   2 |   400/ 2981 batches | lr 4.51 | ms/batch 18.62 | loss  5.13 | ppl   168.80\n",
            "| epoch   2 |   600/ 2981 batches | lr 4.51 | ms/batch 18.56 | loss  4.93 | ppl   138.76\n",
            "| epoch   2 |   800/ 2981 batches | lr 4.51 | ms/batch 18.57 | loss  5.07 | ppl   158.94\n",
            "| epoch   2 |  1000/ 2981 batches | lr 4.51 | ms/batch 18.37 | loss  5.10 | ppl   163.21\n",
            "| epoch   2 |  1200/ 2981 batches | lr 4.51 | ms/batch 18.67 | loss  5.22 | ppl   185.68\n",
            "| epoch   2 |  1400/ 2981 batches | lr 4.51 | ms/batch 18.76 | loss  5.25 | ppl   191.23\n",
            "| epoch   2 |  1600/ 2981 batches | lr 4.51 | ms/batch 18.82 | loss  5.29 | ppl   199.04\n",
            "| epoch   2 |  1800/ 2981 batches | lr 4.51 | ms/batch 18.93 | loss  5.24 | ppl   189.05\n",
            "| epoch   2 |  2000/ 2981 batches | lr 4.51 | ms/batch 18.95 | loss  5.27 | ppl   195.28\n",
            "| epoch   2 |  2200/ 2981 batches | lr 4.51 | ms/batch 18.72 | loss  5.14 | ppl   170.06\n",
            "| epoch   2 |  2400/ 2981 batches | lr 4.51 | ms/batch 19.07 | loss  5.21 | ppl   183.59\n",
            "| epoch   2 |  2600/ 2981 batches | lr 4.51 | ms/batch 18.61 | loss  5.23 | ppl   187.02\n",
            "| epoch   2 |  2800/ 2981 batches | lr 4.51 | ms/batch 18.82 | loss  5.18 | ppl   177.12\n",
            "-----------------------------------------------------------------------------------------\n",
            "| end of epoch   2 | time: 58.50s | valid loss  5.45 | valid ppl   233.26\n",
            "-----------------------------------------------------------------------------------------\n",
            "| epoch   3 |   200/ 2981 batches | lr 4.29 | ms/batch 19.10 | loss  5.05 | ppl   155.47\n",
            "| epoch   3 |   400/ 2981 batches | lr 4.29 | ms/batch 19.00 | loss  5.06 | ppl   157.46\n",
            "| epoch   3 |   600/ 2981 batches | lr 4.29 | ms/batch 18.82 | loss  4.86 | ppl   129.07\n",
            "| epoch   3 |   800/ 2981 batches | lr 4.29 | ms/batch 18.86 | loss  4.98 | ppl   145.82\n",
            "| epoch   3 |  1000/ 2981 batches | lr 4.29 | ms/batch 18.85 | loss  5.00 | ppl   148.63\n",
            "| epoch   3 |  1200/ 2981 batches | lr 4.29 | ms/batch 18.69 | loss  5.11 | ppl   166.15\n",
            "| epoch   3 |  1400/ 2981 batches | lr 4.29 | ms/batch 18.59 | loss  5.16 | ppl   173.99\n"
          ],
          "name": "stdout"
        }
      ]
    },
    {
      "cell_type": "code",
      "metadata": {
        "id": "Q7Ncgh7bZUll",
        "colab_type": "code",
        "colab": {
          "base_uri": "https://localhost:8080/",
          "height": 612
        },
        "outputId": "1e233f00-9f61-44f8-aeb3-75f46b6d41be"
      },
      "source": [
        "model.parameters"
      ],
      "execution_count": 28,
      "outputs": [
        {
          "output_type": "execute_result",
          "data": {
            "text/plain": [
              "<bound method Module.parameters of TransformerModel(\n",
              "  (pos_encoder): PositionalEncoding(\n",
              "    (dropout): Dropout(p=0.2, inplace=False)\n",
              "  )\n",
              "  (transformer_encoder): TransformerEncoder(\n",
              "    (layers): ModuleList(\n",
              "      (0): TransformerEncoderLayer(\n",
              "        (self_attn): MultiheadAttention(\n",
              "          (out_proj): Linear(in_features=200, out_features=200, bias=True)\n",
              "        )\n",
              "        (linear1): Linear(in_features=200, out_features=200, bias=True)\n",
              "        (dropout): Dropout(p=0.2, inplace=False)\n",
              "        (linear2): Linear(in_features=200, out_features=200, bias=True)\n",
              "        (norm1): LayerNorm((200,), eps=1e-05, elementwise_affine=True)\n",
              "        (norm2): LayerNorm((200,), eps=1e-05, elementwise_affine=True)\n",
              "        (dropout1): Dropout(p=0.2, inplace=False)\n",
              "        (dropout2): Dropout(p=0.2, inplace=False)\n",
              "      )\n",
              "      (1): TransformerEncoderLayer(\n",
              "        (self_attn): MultiheadAttention(\n",
              "          (out_proj): Linear(in_features=200, out_features=200, bias=True)\n",
              "        )\n",
              "        (linear1): Linear(in_features=200, out_features=200, bias=True)\n",
              "        (dropout): Dropout(p=0.2, inplace=False)\n",
              "        (linear2): Linear(in_features=200, out_features=200, bias=True)\n",
              "        (norm1): LayerNorm((200,), eps=1e-05, elementwise_affine=True)\n",
              "        (norm2): LayerNorm((200,), eps=1e-05, elementwise_affine=True)\n",
              "        (dropout1): Dropout(p=0.2, inplace=False)\n",
              "        (dropout2): Dropout(p=0.2, inplace=False)\n",
              "      )\n",
              "    )\n",
              "  )\n",
              "  (encoder): Embedding(28785, 200)\n",
              "  (decoder): Linear(in_features=200, out_features=28785, bias=True)\n",
              ")>"
            ]
          },
          "metadata": {
            "tags": []
          },
          "execution_count": 28
        }
      ]
    },
    {
      "cell_type": "code",
      "metadata": {
        "id": "y8fo1ZZWcA6Y",
        "colab_type": "code",
        "colab": {}
      },
      "source": [
        ""
      ],
      "execution_count": 0,
      "outputs": []
    }
  ]
}