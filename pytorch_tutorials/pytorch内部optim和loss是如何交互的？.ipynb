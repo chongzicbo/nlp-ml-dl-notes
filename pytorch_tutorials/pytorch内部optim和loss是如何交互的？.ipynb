{
  "nbformat": 4,
  "nbformat_minor": 0,
  "metadata": {
    "colab": {
      "name": "pytorch内部optim和loss是如何交互的？.ipynb",
      "provenance": [],
      "authorship_tag": "ABX9TyMCw5zE13ISeV/lIJ3w/yNm",
      "include_colab_link": true
    },
    "kernelspec": {
      "name": "python3",
      "display_name": "Python 3"
    }
  },
  "cells": [
    {
      "cell_type": "markdown",
      "metadata": {
        "id": "view-in-github",
        "colab_type": "text"
      },
      "source": [
        "<a href=\"https://colab.research.google.com/github/chongzicbo/nlp-ml-dl-notes/blob/master/pytorch_tutorials/pytorch%E5%86%85%E9%83%A8optim%E5%92%8Closs%E6%98%AF%E5%A6%82%E4%BD%95%E4%BA%A4%E4%BA%92%E7%9A%84%EF%BC%9F.ipynb\" target=\"_parent\"><img src=\"https://colab.research.google.com/assets/colab-badge.svg\" alt=\"Open In Colab\"/></a>"
      ]
    },
    {
      "cell_type": "markdown",
      "metadata": {
        "id": "IfRzhYo_r6LM",
        "colab_type": "text"
      },
      "source": [
        "* optimizer = torch.optim.SGD(net.parameters(), lr=0.5)\n",
        "\n",
        "这一句代码中optimizer获取到了所有parameters的引用，每个parameter都包含梯度（gradient），optimizer可以把梯度应用上去更新parameter。\n",
        "* loss = loss_func(prediction, y)\n",
        "* loss.backward()\n",
        "\n",
        "而梯度由这2句产生，第一句对prediction和y之间进行比对（熵或者其他loss function），产生最初的梯度，然后经由第二句反向传播到整个网络的所有链路和节点。节点与节点之间有联系，因此可以反向链式传播梯度。\n",
        "* optimizer.step()\n",
        "这一句是apply所有的梯度以更新parameter的值，这里不需要传入梯度，因为梯度的引用已经在其构造函数中传入的parameters中包含。\n",
        "\n",
        "作者：神气\n",
        "链接：https://www.zhihu.com/question/266160054/answer/336510776\n"
      ]
    },
    {
      "cell_type": "code",
      "metadata": {
        "id": "PyCPEki0sHgF",
        "colab_type": "code",
        "colab": {}
      },
      "source": [
        ""
      ],
      "execution_count": 0,
      "outputs": []
    }
  ]
}