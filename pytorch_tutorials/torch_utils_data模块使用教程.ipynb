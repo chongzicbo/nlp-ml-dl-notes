{
  "nbformat": 4,
  "nbformat_minor": 0,
  "metadata": {
    "colab": {
      "name": "torch.utils.data模块教程使用.ipynb",
      "provenance": [],
      "authorship_tag": "ABX9TyNbQceZSo7WOG10RlMPVMxL",
      "include_colab_link": true
    },
    "kernelspec": {
      "name": "python3",
      "display_name": "Python 3"
    }
  },
  "cells": [
    {
      "cell_type": "markdown",
      "metadata": {
        "id": "view-in-github",
        "colab_type": "text"
      },
      "source": [
        "<a href=\"https://colab.research.google.com/github/chongzicbo/nlp-ml-dl-notes/blob/master/pytorch_tutorials/torch_utils_data%E6%A8%A1%E5%9D%97%E4%BD%BF%E7%94%A8%E6%95%99%E7%A8%8B.ipynb\" target=\"_parent\"><img src=\"https://colab.research.google.com/assets/colab-badge.svg\" alt=\"Open In Colab\"/></a>"
      ]
    },
    {
      "cell_type": "markdown",
      "metadata": {
        "id": "pfLr1b0Sk7wA",
        "colab_type": "text"
      },
      "source": [
        "## 01. DataLoader中的collate_fn参数使用\n",
        "\n",
        "DataLoader完整的参数如下：\\\n",
        "class torch.utils.data.DataLoader(\n",
        "    dataset, \\\n",
        "    batch_size=1, \\\n",
        "    shuffle=False, \\\n",
        "    sampler=None, \\\n",
        "    batch_sampler=None, \\\n",
        "    num_workers=0, \\\n",
        "    collate_fn=<function default_collate>, \\\n",
        "    pin_memory=False, \\\n",
        "    drop_last=False, \\\n",
        "    timeout=0, \\\n",
        "    worker_init_fn=None) \\\n",
        "\n",
        "\n",
        "DataLoader在数据集上提供单进程或多进程的迭代器\\\n",
        "几个关键的参数意思：\n",
        "- shuffle：设置为True的时候，每个epoch都会打乱数据集\n",
        "- collate_fn：如何取样本的，我们可以定义自己的函数来准确地实现想要的功能\n",
        "- drop_last：告诉如何处理数据集长度除于batch_size余下的数据。True就抛弃，否则保留\n",
        "\n",
        "\n"
      ]
    },
    {
      "cell_type": "code",
      "metadata": {
        "id": "WccR_5B8mBNw",
        "colab_type": "code",
        "colab": {}
      },
      "source": [
        "import torch\n",
        "import torch.utils.data as data\n",
        "import numpy as np"
      ],
      "execution_count": 0,
      "outputs": []
    },
    {
      "cell_type": "code",
      "metadata": {
        "id": "33IquEXHmJSL",
        "colab_type": "code",
        "colab": {}
      },
      "source": [
        "test=np.array([0,1,2,3,4,5,6,7,8,9,10,11])\n",
        "input=torch.tensor(np.array([test[i:i+3]for i in range(10)]))\n",
        "target=torch.tensor(np.array([test[i:i+1] for i in range(10)]))\n",
        "torch_dataset=data.TensorDataset(input,target)\n",
        "batch_size=3\n",
        "loader=data.DataLoader(dataset=torch_dataset,batch_size=batch_size,collate_fn=\n",
        "                       lambda x:(torch.cat([x[i][j].unsqueeze(0)for i in range(len(x))],0).unsqueeze(0) for j in range(len(x[0]))))"
      ],
      "execution_count": 0,
      "outputs": []
    },
    {
      "cell_type": "code",
      "metadata": {
        "id": "8s9EMA8-mzNy",
        "colab_type": "code",
        "outputId": "896427e9-3d50-420d-ea58-12584979c1cd",
        "colab": {
          "base_uri": "https://localhost:8080/",
          "height": 85
        }
      },
      "source": [
        "for x,y in loader:\n",
        "  print(x.shape,y.shape)"
      ],
      "execution_count": 0,
      "outputs": [
        {
          "output_type": "stream",
          "text": [
            "torch.Size([1, 3, 3]) torch.Size([1, 3, 1])\n",
            "torch.Size([1, 3, 3]) torch.Size([1, 3, 1])\n",
            "torch.Size([1, 3, 3]) torch.Size([1, 3, 1])\n",
            "torch.Size([1, 1, 3]) torch.Size([1, 1, 1])\n"
          ],
          "name": "stdout"
        }
      ]
    },
    {
      "cell_type": "code",
      "metadata": {
        "id": "MPmV0L3em_wl",
        "colab_type": "code",
        "colab": {}
      },
      "source": [
        "def collate_fn(batch):\n",
        "  label=torch.tensor([entry[1]+10 for entry in batch])\n",
        "  feature=torch.cat([torch.unsqueeze(entry[0],dim=0) for entry in batch])\n",
        "  return feature,label\n",
        "data_loader=data.DataLoader(dataset=torch_dataset,batch_size=batch_size,collate_fn=collate_fn)"
      ],
      "execution_count": 0,
      "outputs": []
    },
    {
      "cell_type": "code",
      "metadata": {
        "id": "pAT2PMDYylGy",
        "colab_type": "code",
        "outputId": "566e3eac-9f9e-4776-a04a-c32b9dc89802",
        "colab": {
          "base_uri": "https://localhost:8080/",
          "height": 85
        }
      },
      "source": [
        "for x,y in data_loader:\n",
        "  print(x.shape,y.shape)"
      ],
      "execution_count": 0,
      "outputs": [
        {
          "output_type": "stream",
          "text": [
            "torch.Size([3, 3]) torch.Size([3])\n",
            "torch.Size([3, 3]) torch.Size([3])\n",
            "torch.Size([3, 3]) torch.Size([3])\n",
            "torch.Size([1, 3]) torch.Size([1])\n"
          ],
          "name": "stdout"
        }
      ]
    },
    {
      "cell_type": "code",
      "metadata": {
        "id": "D5EYIAhtyqtM",
        "colab_type": "code",
        "outputId": "947a1557-2901-4fab-b4fd-5b80896f8e01",
        "colab": {
          "base_uri": "https://localhost:8080/",
          "height": 34
        }
      },
      "source": [
        "print(input.shape,target.shape)"
      ],
      "execution_count": 0,
      "outputs": [
        {
          "output_type": "stream",
          "text": [
            "torch.Size([10, 3]) torch.Size([10, 1])\n"
          ],
          "name": "stdout"
        }
      ]
    },
    {
      "cell_type": "code",
      "metadata": {
        "id": "YFjHeHFKzQZC",
        "colab_type": "code",
        "colab": {}
      },
      "source": [
        ""
      ],
      "execution_count": 0,
      "outputs": []
    }
  ]
}