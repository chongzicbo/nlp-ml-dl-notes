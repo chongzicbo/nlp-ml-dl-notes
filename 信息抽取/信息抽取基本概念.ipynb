{
  "nbformat": 4,
  "nbformat_minor": 0,
  "metadata": {
    "colab": {
      "name": "信息抽取基本概念.ipynb",
      "provenance": [],
      "collapsed_sections": [],
      "authorship_tag": "ABX9TyPx4ULHKKMjHR9aDd5eGFDV",
      "include_colab_link": true
    },
    "kernelspec": {
      "name": "python3",
      "display_name": "Python 3"
    }
  },
  "cells": [
    {
      "cell_type": "markdown",
      "metadata": {
        "id": "view-in-github",
        "colab_type": "text"
      },
      "source": [
        "<a href=\"https://colab.research.google.com/github/chongzicbo/nlp-ml-dl-notes/blob/master/%E4%BF%A1%E6%81%AF%E6%8A%BD%E5%8F%96/%E4%BF%A1%E6%81%AF%E6%8A%BD%E5%8F%96%E5%9F%BA%E6%9C%AC%E6%A6%82%E5%BF%B5.ipynb\" target=\"_parent\"><img src=\"https://colab.research.google.com/assets/colab-badge.svg\" alt=\"Open In Colab\"/></a>"
      ]
    },
    {
      "cell_type": "markdown",
      "metadata": {
        "id": "om9KNY4p3uOz",
        "colab_type": "text"
      },
      "source": [
        "&emsp;&emsp;信息抽取(IE)过程是将嵌入在文本中的非结构化信息自动提取转换为结构化数据的过程。信息抽取一般包括以下任务：\n",
        "\n",
        "## 1. 命名体识别\n",
        "\n",
        "&emsp;&emsp;大部分信息抽取任务的第一步是抽取文本中的命名实体。命名实体识别(NER)是在文本中找到每个提及的命名实体并标记其类型。命名实体通常包括人员、地点、组织机构、时间等。\n",
        "\n",
        "## 2. 关系抽取\n",
        "&emsp;&emsp;关系抽取(relation extraction)的任务是查找分类文本实体之间的语义关系，通常包括配偶、子女、就业、从属和地理空间上的位置关系等二元关系。关系抽取与填充关系数据库有着密切的联系。\n",
        "\n",
        "## 3. 事件抽取(event extraction)\n",
        "&emsp;&emsp;事件抽取的任务是查找这些实体参与的事件，还需要通过查找共同之处来确定文本中提到的许多事件中的哪些引用同一个事件。\n",
        "\n",
        "## 4.时间表达式\n",
        "\n",
        "&emsp;&emsp;为了弄清楚文本中事件的发生时间，我们必须确认一些时间表达式（temporal expression）—— 例如星期几（星期五和星期四）、月份、节假日等 —— 以及相对表达式如现在或明年的两天以及3:30 PM 或中午。 时间表达归一化（temporal expression normalization）的问题是将这些时间表达映射到特定的日历日期或一天中的时间来及时定位事件。\n",
        "\n",
        "## 5.模板填充\n",
        "\n",
        "&emsp;&emsp;许多文本描述了反复出现的刻板形式。 模板填充（template filling）的任务是在文档中找到这种情况，并用适当的材料填充模板。 这些插槽填充符可以由直接从文本中提取的文本段，或者通过附加处理从文本元素推断出的时间，金额或本体实体（ontology entities）等概念组成。\n"
      ]
    }
  ]
}