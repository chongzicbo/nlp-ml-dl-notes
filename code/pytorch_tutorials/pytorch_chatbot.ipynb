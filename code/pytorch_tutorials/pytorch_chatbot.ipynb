{
  "nbformat": 4,
  "nbformat_minor": 0,
  "metadata": {
    "colab": {
      "name": "pytorch_chatbot.ipynb",
      "provenance": [],
      "toc_visible": true,
      "include_colab_link": true
    },
    "kernelspec": {
      "name": "python3",
      "display_name": "Python 3"
    },
    "accelerator": "GPU"
  },
  "cells": [
    {
      "cell_type": "markdown",
      "metadata": {
        "id": "view-in-github",
        "colab_type": "text"
      },
      "source": [
        "<a href=\"https://colab.research.google.com/github/chongzicbo/nlp-ml-dl-notes/blob/master/code/pytorch_tutorials/pytorch_chatbot.ipynb\" target=\"_parent\"><img src=\"https://colab.research.google.com/assets/colab-badge.svg\" alt=\"Open In Colab\"/></a>"
      ]
    },
    {
      "cell_type": "code",
      "metadata": {
        "id": "UjJnOCbqu8Cx",
        "colab_type": "code",
        "colab": {}
      },
      "source": [
        "from __future__ import absolute_import,division,print_function,unicode_literals\n",
        "import torch\n",
        "from torch.jit import script,trace\n",
        "import torch.nn as nn\n",
        "import torch.optim as optim\n",
        "import torch.nn.functional as F\n",
        "import csv\n",
        "import random\n",
        "import re\n",
        "import os\n",
        "import unicodedata\n",
        "import codecs\n",
        "from io import open\n",
        "import itertools\n",
        "import math"
      ],
      "execution_count": null,
      "outputs": []
    },
    {
      "cell_type": "code",
      "metadata": {
        "id": "7PUEvyJc3OjI",
        "colab_type": "code",
        "colab": {}
      },
      "source": [
        "USE_CUDA=torch.cuda.is_available()\n",
        "device=torch.device('cuda' if USE_CUDA else 'cpu')"
      ],
      "execution_count": null,
      "outputs": []
    },
    {
      "cell_type": "code",
      "metadata": {
        "id": "XjiUG0Mp3YS_",
        "colab_type": "code",
        "colab": {
          "base_uri": "https://localhost:8080/",
          "height": 34
        },
        "outputId": "e483b86d-476c-4c1d-b936-fbba2c74fcab"
      },
      "source": [
        "USE_CUDA"
      ],
      "execution_count": null,
      "outputs": [
        {
          "output_type": "execute_result",
          "data": {
            "text/plain": [
              "True"
            ]
          },
          "metadata": {
            "tags": []
          },
          "execution_count": 3
        }
      ]
    },
    {
      "cell_type": "code",
      "metadata": {
        "id": "eMqE9tZk5Coh",
        "colab_type": "code",
        "colab": {
          "base_uri": "https://localhost:8080/",
          "height": 121
        },
        "outputId": "d1386990-03e0-42b9-864f-cb4bde83b464"
      },
      "source": [
        "from google.colab import drive\n",
        "drive.mount('/content/drive')"
      ],
      "execution_count": null,
      "outputs": [
        {
          "output_type": "stream",
          "text": [
            "Go to this URL in a browser: https://accounts.google.com/o/oauth2/auth?client_id=947318989803-6bn6qk8qdgf4n4g3pfee6491hc0brc4i.apps.googleusercontent.com&redirect_uri=urn%3aietf%3awg%3aoauth%3a2.0%3aoob&response_type=code&scope=email%20https%3a%2f%2fwww.googleapis.com%2fauth%2fdocs.test%20https%3a%2f%2fwww.googleapis.com%2fauth%2fdrive%20https%3a%2f%2fwww.googleapis.com%2fauth%2fdrive.photos.readonly%20https%3a%2f%2fwww.googleapis.com%2fauth%2fpeopleapi.readonly\n",
            "\n",
            "Enter your authorization code:\n",
            "··········\n",
            "Mounted at /content/drive\n"
          ],
          "name": "stdout"
        }
      ]
    },
    {
      "cell_type": "markdown",
      "metadata": {
        "id": "wyWXjHO8DU5Q",
        "colab_type": "text"
      },
      "source": [
        "# 1.加载和预处理数据"
      ]
    },
    {
      "cell_type": "code",
      "metadata": {
        "id": "ONphwmUP3ap4",
        "colab_type": "code",
        "colab": {
          "base_uri": "https://localhost:8080/",
          "height": 205
        },
        "outputId": "47435552-7683-4a0d-ee2f-7e04bfc49107"
      },
      "source": [
        "corpus_name='cornell_movie_quotes_corpus'\n",
        "corpus=os.path.join('/content/drive/My Drive/data',corpus_name)\n",
        "\n",
        "def printLines(file,n=10):\n",
        "  with open(file,'rb')as datafile:\n",
        "    lines=datafile.readlines()\n",
        "  for line in lines[:n]:\n",
        "    print(line)\n",
        "printLines(os.path.join(corpus,'moviequotes.scripts.txt'))"
      ],
      "execution_count": null,
      "outputs": [
        {
          "output_type": "stream",
          "text": [
            "b'0 +++$+++ \"murderland\" +++$+++ 1 +++$+++ announcer +++$+++  +++$+++ Ladies and gentlemen, the official mascot of Murderland.... Scraps the Dog !\\n'\n",
            "b'1 +++$+++ \"murderland\" +++$+++ 2 +++$+++ announcer +++$+++  +++$+++ Choose the doorway that starts you on your magical journey into  MURDERLAND !\\n'\n",
            "b'2 +++$+++ \"murderland\" +++$+++ 3 +++$+++ johnny +++$+++  +++$+++ I didn\\'t think he\\'d make it past Scraps.\\n'\n",
            "b'3 +++$+++ \"murderland\" +++$+++ 4 +++$+++ bruce +++$+++ 2 +++$+++ Let\\'s just see if he can make it into round two....\\n'\n",
            "b'4 +++$+++ \"murderland\" +++$+++ 5 +++$+++ bruce +++$+++  +++$+++ Don\\'t.\\n'\n",
            "b'5 +++$+++ \"murderland\" +++$+++ 6 +++$+++ johnny +++$+++ 4 +++$+++ What ?\\n'\n",
            "b'6 +++$+++ \"murderland\" +++$+++ 7 +++$+++ bruce +++$+++ 5 +++$+++ Don\\'t eat at the console.\\n'\n",
            "b'7 +++$+++ \"murderland\" +++$+++ 8 +++$+++ johnny +++$+++ 6 +++$+++ What ? Are you my mother ?\\n'\n",
            "b'8 +++$+++ \"murderland\" +++$+++ 9 +++$+++ bruce +++$+++ 7 +++$+++ It\\'s my control board and I don\\'t want it acting squirrelly because you dropped a few crumbs into the keyboard, no put the shit away.\\n'\n",
            "b'9 +++$+++ \"murderland\" +++$+++ 10 +++$+++ johnny +++$+++ 8 +++$+++ Yes, sir Mom.\\n'\n"
          ],
          "name": "stdout"
        }
      ]
    },
    {
      "cell_type": "markdown",
      "metadata": {
        "id": "9k8bLrZ2Dj_1",
        "colab_type": "text"
      },
      "source": [
        "## 1.1 创建格式化数据文件\n",
        "\n",
        "将对话组成语句对的形式：上一句+下一句"
      ]
    },
    {
      "cell_type": "code",
      "metadata": {
        "id": "dcSvHsz552st",
        "colab_type": "code",
        "colab": {}
      },
      "source": [
        "#将文件的每一行拆分为字段(lineID, characterID, movieID, character, text)组合的字典\n",
        "def loadLines(fileName,fields):\n",
        "  lines={}\n",
        "  with open(fileName,'r',encoding='iso-8859-1')as f:\n",
        "    for line in f:\n",
        "      values=line.split(' +++$+++ ')\n",
        "      lineObj={}\n",
        "      for i,field in enumerate(fields):\n",
        "        lineObj[field]=values[i]\n",
        "      lines[lineObj['LineID']]=lineObj\n",
        "  return lines"
      ],
      "execution_count": null,
      "outputs": []
    },
    {
      "cell_type": "code",
      "metadata": {
        "id": "3-VM8CuEHaXt",
        "colab_type": "code",
        "colab": {}
      },
      "source": [
        "# loadConversations 根据 movie_conversations.txt 将 loadLines 中的每一行数据进行归类\n",
        "\n",
        "def loadConversations(fileName,lines,fields):\n",
        "  conversations=[]\n",
        "  with open(fileName,'r',encoding=\"iso-8859-1\") as f:\n",
        "    for line in f:\n",
        "      values=line.split(\" +++$+++ \")\n",
        "      #提取fields\n",
        "      convObj={}\n",
        "      for i,field in enumerate(fields):\n",
        "        convObj[field]=values[i]\n",
        "\n",
        "      lineIds=eval(convObj[\"utteranceIDs\"])\n",
        "      convObj[\"lines\"]=[]\n",
        "      for lineId in lineIds:\n",
        "        convObj[\"lines\"].append(lines[lineId])\n",
        "      conversations.append(convObj)\n",
        "  return conversations"
      ],
      "execution_count": null,
      "outputs": []
    },
    {
      "cell_type": "code",
      "metadata": {
        "id": "zjWF0QDHLrzt",
        "colab_type": "code",
        "colab": {}
      },
      "source": [
        "# 从对话中提取一对句子\n",
        "def extractSentencePairs(conversations):\n",
        "  qa_pairs=[]\n",
        "  for conversation in conversations:\n",
        "    for i in range(len(conversation[\"lines\"])-1):\n",
        "      inputLine=conversation[\"lines\"][i][\"text\"].strip()\n",
        "      targetLine=conversation[\"lines\"][i+1][\"text\"].strip()\n",
        "      if inputLine and targetLine:\n",
        "        qa_pairs.append([inputLine,targetLine])\n",
        "\n",
        "  return qa_pairs"
      ],
      "execution_count": null,
      "outputs": []
    },
    {
      "cell_type": "code",
      "metadata": {
        "id": "8sk5TUbt7Lkg",
        "colab_type": "code",
        "colab": {}
      },
      "source": [
        "datafile=os.path.join(corpus,\"formatted_movie_lines.txt\")\n",
        "delimiter=\"\\t\"\n",
        "delimiter=str(codecs.decode(delimiter,\"unicode_escape\"))\n",
        "lines={}\n",
        "conversations=[]\n",
        "MOVIE_LINES_FIELDS=[\"LineID\",\"characterID\",\"movieID\",\"character\",\"text\"]\n",
        "MOVIE_CONVERSATIONS_FIELDS=[\"character1ID\",\"character2ID\",\"movieID\",\"utteranceIDs\"]"
      ],
      "execution_count": null,
      "outputs": []
    },
    {
      "cell_type": "code",
      "metadata": {
        "id": "F-5SB0Y_Fmmz",
        "colab_type": "code",
        "colab": {
          "base_uri": "https://localhost:8080/",
          "height": 34
        },
        "outputId": "f8342520-cf8c-4fad-8db3-fee8756096f3"
      },
      "source": [
        "print(\"Processing courpus....\")\n",
        "lines=loadLines(os.path.join(corpus,\"movie_lines.txt\"),MOVIE_LINES_FIELDS)"
      ],
      "execution_count": null,
      "outputs": [
        {
          "output_type": "stream",
          "text": [
            "Processing courpus....\n"
          ],
          "name": "stdout"
        }
      ]
    },
    {
      "cell_type": "code",
      "metadata": {
        "id": "8f87OAcWGCX4",
        "colab_type": "code",
        "colab": {
          "base_uri": "https://localhost:8080/",
          "height": 34
        },
        "outputId": "44796619-dfac-4c1c-9cc3-08dc4773a51c"
      },
      "source": [
        "for line in lines.items():\n",
        "  print(line)\n",
        "  break"
      ],
      "execution_count": null,
      "outputs": [
        {
          "output_type": "stream",
          "text": [
            "('L1045', {'LineID': 'L1045', 'characterID': 'u0', 'movieID': 'm0', 'character': 'BIANCA', 'text': 'They do not!\\n'})\n"
          ],
          "name": "stdout"
        }
      ]
    },
    {
      "cell_type": "code",
      "metadata": {
        "id": "ip6YdBgHGyxw",
        "colab_type": "code",
        "colab": {
          "base_uri": "https://localhost:8080/",
          "height": 34
        },
        "outputId": "ba8898d7-710b-4364-f455-da9d55b2b180"
      },
      "source": [
        "print(\"Loading conversations...\")\n",
        "conversations=loadConversations(os.path.join(corpus,\"movie_conversations.txt\"),lines,MOVIE_CONVERSATIONS_FIELDS)"
      ],
      "execution_count": null,
      "outputs": [
        {
          "output_type": "stream",
          "text": [
            "Loading conversations...\n"
          ],
          "name": "stdout"
        }
      ]
    },
    {
      "cell_type": "code",
      "metadata": {
        "id": "0s1j-UYMKfaP",
        "colab_type": "code",
        "colab": {
          "base_uri": "https://localhost:8080/",
          "height": 54
        },
        "outputId": "b7b491e2-ab9d-48c7-b52b-51170bd1d2bf"
      },
      "source": [
        "print(conversations[0:2])"
      ],
      "execution_count": null,
      "outputs": [
        {
          "output_type": "stream",
          "text": [
            "[{'character1ID': 'u0', 'character2ID': 'u2', 'movieID': 'm0', 'utteranceIDs': \"['L194', 'L195', 'L196', 'L197']\\n\", 'lines': [{'LineID': 'L194', 'characterID': 'u0', 'movieID': 'm0', 'character': 'BIANCA', 'text': 'Can we make this quick?  Roxanne Korrine and Andrew Barrett are having an incredibly horrendous public break- up on the quad.  Again.\\n'}, {'LineID': 'L195', 'characterID': 'u2', 'movieID': 'm0', 'character': 'CAMERON', 'text': \"Well, I thought we'd start with pronunciation, if that's okay with you.\\n\"}, {'LineID': 'L196', 'characterID': 'u0', 'movieID': 'm0', 'character': 'BIANCA', 'text': 'Not the hacking and gagging and spitting part.  Please.\\n'}, {'LineID': 'L197', 'characterID': 'u2', 'movieID': 'm0', 'character': 'CAMERON', 'text': \"Okay... then how 'bout we try out some French cuisine.  Saturday?  Night?\\n\"}]}, {'character1ID': 'u0', 'character2ID': 'u2', 'movieID': 'm0', 'utteranceIDs': \"['L198', 'L199']\\n\", 'lines': [{'LineID': 'L198', 'characterID': 'u0', 'movieID': 'm0', 'character': 'BIANCA', 'text': \"You're asking me out.  That's so cute. What's your name again?\\n\"}, {'LineID': 'L199', 'characterID': 'u2', 'movieID': 'm0', 'character': 'CAMERON', 'text': 'Forget it.\\n'}]}]\n"
          ],
          "name": "stdout"
        }
      ]
    },
    {
      "cell_type": "code",
      "metadata": {
        "id": "3eAqtW31KjEk",
        "colab_type": "code",
        "colab": {
          "base_uri": "https://localhost:8080/",
          "height": 255
        },
        "outputId": "5f502e5d-3ca3-4517-dd1f-888c247f51a6"
      },
      "source": [
        "print(\"Writing newly formatted file...\")\n",
        "with open(datafile,'w',encoding='utf-8') as outputfile:\n",
        "  writer=csv.writer(outputfile,delimiter=delimiter,lineterminator=\"\\n\")\n",
        "  for pair in extractSentencePairs(conversations):\n",
        "    writer.writerow(pair)\n",
        "\n",
        "print(\"\\nSample lines from file:\")\n",
        "printLines(datafile)"
      ],
      "execution_count": null,
      "outputs": [
        {
          "output_type": "stream",
          "text": [
            "Writing newly formatted file...\n",
            "\n",
            "Sample lines from file:\n",
            "b\"Can we make this quick?  Roxanne Korrine and Andrew Barrett are having an incredibly horrendous public break- up on the quad.  Again.\\tWell, I thought we'd start with pronunciation, if that's okay with you.\\n\"\n",
            "b\"Well, I thought we'd start with pronunciation, if that's okay with you.\\tNot the hacking and gagging and spitting part.  Please.\\n\"\n",
            "b\"Not the hacking and gagging and spitting part.  Please.\\tOkay... then how 'bout we try out some French cuisine.  Saturday?  Night?\\n\"\n",
            "b\"You're asking me out.  That's so cute. What's your name again?\\tForget it.\\n\"\n",
            "b\"No, no, it's my fault -- we didn't have a proper introduction ---\\tCameron.\\n\"\n",
            "b\"Cameron.\\tThe thing is, Cameron -- I'm at the mercy of a particularly hideous breed of loser.  My sister.  I can't date until she does.\\n\"\n",
            "b\"The thing is, Cameron -- I'm at the mercy of a particularly hideous breed of loser.  My sister.  I can't date until she does.\\tSeems like she could get a date easy enough...\\n\"\n",
            "b'Why?\\tUnsolved mystery.  She used to be really popular when she started high school, then it was just like she got sick of it or something.\\n'\n",
            "b\"Unsolved mystery.  She used to be really popular when she started high school, then it was just like she got sick of it or something.\\tThat's a shame.\\n\"\n",
            "b'Gosh, if only we could find Kat a boyfriend...\\tLet me see what I can do.\\n'\n"
          ],
          "name": "stdout"
        }
      ]
    },
    {
      "cell_type": "markdown",
      "metadata": {
        "id": "oVaqfEGeNpC6",
        "colab_type": "text"
      },
      "source": [
        "## 1.2 加载和清洗数据\n",
        "我们下一个任务是创建词汇表并将查询/响应句子对(对话）加载到内存。\n",
        "\n",
        "注意我们正在处理词序，这些词序没有映射到离散数值空间。因此，我们必须通过数据集中的单词来创建一个索引。\n",
        "\n",
        "为此我们创建了一个Voc类,它会存储从单词到索引的映射、索引到单词的反向映射、每个单词的计数和总单词量。这个类提供向词汇表中添加单词的方法(addWord)、添加所有单词到句子中的方法 (addSentence) 和清洗不常见的单词方法(trim)。更多的数据清洗在后面进行。"
      ]
    },
    {
      "cell_type": "code",
      "metadata": {
        "id": "QwfZFaVKOrHB",
        "colab_type": "code",
        "colab": {
          "base_uri": "https://localhost:8080/",
          "height": 353
        },
        "outputId": "c17c0bea-0b58-42cc-c5c6-a1df243006e4"
      },
      "source": [
        "!nvidia-smi"
      ],
      "execution_count": null,
      "outputs": [
        {
          "output_type": "stream",
          "text": [
            "Thu Aug  6 01:36:20 2020       \n",
            "+-----------------------------------------------------------------------------+\n",
            "| NVIDIA-SMI 450.57       Driver Version: 418.67       CUDA Version: 10.1     |\n",
            "|-------------------------------+----------------------+----------------------+\n",
            "| GPU  Name        Persistence-M| Bus-Id        Disp.A | Volatile Uncorr. ECC |\n",
            "| Fan  Temp  Perf  Pwr:Usage/Cap|         Memory-Usage | GPU-Util  Compute M. |\n",
            "|                               |                      |               MIG M. |\n",
            "|===============================+======================+======================|\n",
            "|   0  Tesla K80           Off  | 00000000:00:04.0 Off |                    0 |\n",
            "| N/A   33C    P8    28W / 149W |     11MiB / 11441MiB |      0%      Default |\n",
            "|                               |                      |                 ERR! |\n",
            "+-------------------------------+----------------------+----------------------+\n",
            "                                                                               \n",
            "+-----------------------------------------------------------------------------+\n",
            "| Processes:                                                                  |\n",
            "|  GPU   GI   CI        PID   Type   Process name                  GPU Memory |\n",
            "|        ID   ID                                                   Usage      |\n",
            "|=============================================================================|\n",
            "|  No running processes found                                                 |\n",
            "+-----------------------------------------------------------------------------+\n"
          ],
          "name": "stdout"
        }
      ]
    },
    {
      "cell_type": "code",
      "metadata": {
        "id": "Ffy-z8bwPDcC",
        "colab_type": "code",
        "colab": {}
      },
      "source": [
        "PAD_token=0 #padding\n",
        "SOS_token=1 #起始字符\n",
        "EOS_token=2 #结尾字符\n",
        "\n",
        "class Voc:\n",
        "  def __init__(self,name):\n",
        "    self.name=name\n",
        "    self.trimmed=False\n",
        "    self.word2index={}\n",
        "    self.word2count={}\n",
        "    self.index2word={PAD_token:\"PAD\",SOS_token:\"SOS\",EOS_token:\"EOS\"}\n",
        "    self.num_words=3 #SOS,EOS,PAD\n",
        "\n",
        "  def addSentence(self,sentence):\n",
        "    for word in sentence.split(\" \"):\n",
        "      self.addWord(word)\n",
        "\n",
        "  def addWord(self,word):\n",
        "    if word not in self.word2index:\n",
        "      self.word2index[word]=self.num_words\n",
        "      self.word2count[word]=1\n",
        "      self.index2word[self.num_words]=word\n",
        "      self.num_words+=1\n",
        "    else:\n",
        "      self.word2count[word]+=1\n",
        "\n",
        "\n",
        "  #删除低于特定计数阈值的单词\n",
        "\n",
        "  def trim(self,min_count):\n",
        "    if self.trimmed:\n",
        "      return\n",
        "\n",
        "    self.trimmed=True \n",
        "\n",
        "    keep_words=[]\n",
        "\n",
        "    for k,v in self.word2count.items():\n",
        "      if v>=min_count:\n",
        "        keep_words.append(k)\n",
        "\n",
        "    print(\"keep_words {} / {}={:.4f}\".format(len(keep_words),len(self.word2index),len(keep_words)/len(self.word2index)))\n",
        "\n",
        "    self.word2index={}\n",
        "    self.word2count={}\n",
        "    self.index2word={PAD_token:\"PAD\",SOS_token:\"SOS\",EOS_token:\"EOS\"}\n",
        "    self.num_words=3\n",
        "    for word in keep_words:\n",
        "      self.addWord(word)\n"
      ],
      "execution_count": null,
      "outputs": []
    },
    {
      "cell_type": "code",
      "metadata": {
        "id": "e4-oe6EZP9TO",
        "colab_type": "code",
        "colab": {}
      },
      "source": [
        "MAX_LENGTH=10 #句子的最大长度\n",
        "\n",
        "def unicodeToAscii(s):\n",
        "  return \"\".join(c for c in unicodedata.normalize(\"NFD\",s) if unicodedata.category(c)!=\"Mn\")\n",
        "\n",
        "def normalizeString(s):\n",
        "    s = unicodeToAscii(s.lower().strip())\n",
        "    s = re.sub(r\"([.!?])\", r\" \\1\", s)\n",
        "    s = re.sub(r\"[^a-zA-Z.!?]+\", r\" \", s)\n",
        "    return s\n",
        "\n",
        "#初始化Voc对象和格式化pairs对话存到list中\n",
        "def readVocs(datafile,corpus_name):\n",
        "  print(\"Reading lines\")\n",
        "  lines=open(datafile,encoding=\"utf-8\").read().strip().split(\"\\n\")\n",
        "  pairs=[[normalizeString(s) for s in l.split(\"\\t\")] for l in lines]\n",
        "  voc=Voc(corpus_name)\n",
        "  return voc,pairs\n",
        "\n",
        "\n",
        "#如果对\"p\"中的两个句子都低于MAX_LENGTH阈值，则返回True\n",
        "def filterPair(p):\n",
        "  return len(p[0].split(\" \"))<MAX_LENGTH and len(p[1].split(\" \"))<MAX_LENGTH\n",
        "\n",
        "#过滤满足条件的pairs对话\n",
        "def filterPairs(pairs):\n",
        "  return [pair for pair in pairs if filterPair(pair)]\n",
        "\n",
        "def loadPrepareData(corpus,corpus_name,datafile,save_dir):\n",
        "  print(\"Start preparing training data ...\")\n",
        "  voc,pairs=readVocs(datafile,corpus_name)\n",
        "  print(\"Read {!s} sentence pairs\".format(len(pairs)))\n",
        "  pairs=filterPairs(pairs)\n",
        "  print(\"Trimmed to {!s} sentence pairs\".format(len(pairs)))\n",
        "  print(\"Counting word...\")\n",
        "  for pair in pairs:\n",
        "    voc.addSentence(pair[0])\n",
        "    voc.addSentence(pair[1])\n",
        "\n",
        "  print(\"Counted words:\",voc.num_words)\n",
        "  return voc,pairs"
      ],
      "execution_count": null,
      "outputs": []
    },
    {
      "cell_type": "code",
      "metadata": {
        "id": "e_m7PYP9V2q3",
        "colab_type": "code",
        "colab": {
          "base_uri": "https://localhost:8080/",
          "height": 118
        },
        "outputId": "4b80823c-6154-4581-d6d6-586c8139cf08"
      },
      "source": [
        "save_dir=os.path.join(corpus,\"save\")\n",
        "voc,pairs=loadPrepareData(corpus,corpus_name,datafile,save_dir)"
      ],
      "execution_count": null,
      "outputs": [
        {
          "output_type": "stream",
          "text": [
            "Start preparing training data ...\n",
            "Reading lines\n",
            "Read 221282 sentence pairs\n",
            "Trimmed to 63446 sentence pairs\n",
            "Counting word...\n",
            "Counted words: 17774\n"
          ],
          "name": "stdout"
        }
      ]
    },
    {
      "cell_type": "code",
      "metadata": {
        "id": "fW1DFWyHW2wf",
        "colab_type": "code",
        "colab": {
          "base_uri": "https://localhost:8080/",
          "height": 185
        },
        "outputId": "cb6687c8-f50d-474a-d248-e8ae69053fd6"
      },
      "source": [
        "for pair in pairs[:10]:\n",
        "  print(pair)"
      ],
      "execution_count": null,
      "outputs": [
        {
          "output_type": "stream",
          "text": [
            "['there .', 'where ?']\n",
            "['you have my word . as a gentleman', 'you re sweet .']\n",
            "['hi .', 'looks like things worked out tonight huh ?']\n",
            "['you know chastity ?', 'i believe we share an art instructor']\n",
            "['have fun tonight ?', 'tons']\n",
            "['well no . . .', 'then that s all you had to say .']\n",
            "['then that s all you had to say .', 'but']\n",
            "['but', 'you always been this selfish ?']\n",
            "['do you listen to this crap ?', 'what crap ?']\n",
            "['what good stuff ?', ' the real you . ']\n"
          ],
          "name": "stdout"
        }
      ]
    },
    {
      "cell_type": "markdown",
      "metadata": {
        "id": "2ZGdlG1WYHaP",
        "colab_type": "text"
      },
      "source": [
        "另一种有利于让训练更快收敛的策略是去除词汇表中很少使用的单词。减少特征空间也会降低模型学习目标函数的难度。我们通过以下两个步骤完成这个操作:\n",
        "\n",
        "* 使用 voc.trim 函数去除 MIN_COUNT 阈值以下单词 。\n",
        "* 如果句子中包含词频过小的单词，那么整个句子也被过滤掉。"
      ]
    },
    {
      "cell_type": "code",
      "metadata": {
        "id": "CMyK_tKuYSyG",
        "colab_type": "code",
        "colab": {}
      },
      "source": [
        "MIN_COUNT=3\n",
        "\n",
        "def trimRareWords(voc,pairs,MIN_COUNT):\n",
        "  voc.trim(MIN_COUNT)\n",
        "  keep_pairs=[]\n",
        "  for pair in pairs:\n",
        "    input_sentence=pair[0]\n",
        "    output_sentence=pair[1]\n",
        "    keep_input=True\n",
        "    keep_output=True\n",
        "\n",
        "    for word in input_sentence.split(\" \"):\n",
        "      if word not in voc.word2index:\n",
        "        keep_input=False\n",
        "        break\n",
        "\n",
        "    for word in output_sentence.split(\" \"):\n",
        "      if word not in voc.word2index:\n",
        "        keep_output=False\n",
        "        break\n",
        "\n",
        "    if keep_input and keep_output:\n",
        "      keep_pairs.append(pair)\n",
        "\n",
        "  print(\"Trimmed from {} pairs to {}, {:.4f} of total\".format(len(pairs), len(keep_pairs), len(keep_pairs) / len(pairs)))\n",
        "  return keep_pairs\n"
      ],
      "execution_count": null,
      "outputs": []
    },
    {
      "cell_type": "code",
      "metadata": {
        "id": "DmiA0ikpZQ0n",
        "colab_type": "code",
        "colab": {
          "base_uri": "https://localhost:8080/",
          "height": 50
        },
        "outputId": "606871f6-7274-4559-e30a-1a89ec2b2593"
      },
      "source": [
        "pairs=trimRareWords(voc,pairs,MIN_COUNT)"
      ],
      "execution_count": null,
      "outputs": [
        {
          "output_type": "stream",
          "text": [
            "keep_words 7706 / 17771=0.4336\n",
            "Trimmed from 63446 pairs to 52456, 0.8268 of total\n"
          ],
          "name": "stdout"
        }
      ]
    },
    {
      "cell_type": "markdown",
      "metadata": {
        "id": "bfKkuwmnZVmq",
        "colab_type": "text"
      },
      "source": [
        "# 2.为模型准备数据"
      ]
    },
    {
      "cell_type": "markdown",
      "metadata": {
        "id": "kGAsXoNDcNnu",
        "colab_type": "text"
      },
      "source": [
        "&emsp;&emsp;尽管我们已经投入了大量精力来准备和清洗我们的数据变成一个很好的词汇对象和一系列的句子对，但我们的模型最终希望以numerical torch 张量作为输入。 可以在 seq2seq translation tutorial 中找到为模型准备处理数据的一种方法。 在该教程中，我们使用batch size 大小为1，这意味着我们所要做的就是将句子对中的单词转换为词汇表中的相应索引，并将其提供给模型。\n",
        "\n",
        "&emsp;&emsp;但是，如果你想要加速训练或者想要利用GPU并行计算能力，则需要使用小批量 mini-batches 来训练。\n",
        "\n",
        "&emsp;&emsp;使用小批量 mini-batches 也意味着我们必须注意批量处理中句子长度的变化。 为了容纳同一批次中不同大小的句子，我们将使我们的批量输入张量大小 (max_length，batch_size)，其中短于 max_length 的句子在 EOS_token 之后进行零填充(zero padded）。\n",
        "\n",
        "&emsp;&emsp;如果我们简单地通过将单词转换为索引 indicesFromSentence 和零填充 zero-pad 将我们的英文句子转换为张量，我们的张量将具有大小 (batch_size，max_length)，并且索引第一维将在所有时间步骤中返回完整序列。 但是，我们需要沿着时间对我们批量数据进行索引并且包括批量数据中所有序列。 因此，我们将输入批处理大小转换为 (max_length，batch_size)，以便跨第一维的索引返回批处理中所有句子的时间步长。 我们在 zeroPadding 函数中隐式处理这个转置。\n",
        "\n",
        "![avatar](https://pytorch.apachecn.org/docs/1.0/img/b2f1969c698070d055c23fc81ab07b1b.jpg)\n",
        "\n",
        "* inputvar 函数处理将句子转换为张量的过程，最终创建正确大小的零填充张量。它还返回批处理中每个序列的长度张量 (tensor of lengths)，长度张量稍后将传递给我们的解码器。\n",
        "\n",
        "* outputvar 函数执行与 inputvar 类似的函数，但他不返回长度张量，而是返回二进制 mask tensor 和最大目标句子长度。二进制 mask tensor 的大小与输出目标张量的大小相同，但作为 PAD_token 的每个元素都是0而其他元素都是1。\n",
        "\n",
        "* batch2traindata 只需要取一批句子对，并使用上述函数返回输入张量和目标张量。"
      ]
    },
    {
      "cell_type": "code",
      "metadata": {
        "id": "_0na1oz4c3UV",
        "colab_type": "code",
        "colab": {}
      },
      "source": [
        "def indexesFromSentence(voc,sentence):\n",
        "  return [voc.word2index[word] for word in sentence.split(\" \")]+[EOS_token]\n",
        "\n",
        "#zip对数据进行合并，相当于行列转置\n",
        "def zeroPadding(l,fillvalue=PAD_token):\n",
        "  return list(itertools.zip_longest(*l,fillvalue=fillvalue))\n",
        "\n",
        "#记录PAD_token的位置为0,其他的为1\n",
        "def binaryMatrix(l,value=PAD_token):\n",
        "  m=[]\n",
        "  for i,seq in enumerate(l):\n",
        "    m.append([])\n",
        "    for token in seq:\n",
        "      if token==PAD_token:\n",
        "        m[i].append(0)\n",
        "      else:\n",
        "        m[i].append(1)\n",
        "  return m \n",
        "\n",
        "#返回填充前(加入结束index EOS_token 做标记)的长度和填充后的输入序列张量\n",
        "\n",
        "def inputVar(l,voc):\n",
        "  indexes_batch=[indexesFromSentence(voc,sentence) for sentence in l]\n",
        "  lengths=torch.tensor([len(indexes) for indexes in indexes_batch])\n",
        "  padList=zeroPadding(indexes_batch)\n",
        "  padVar=torch.LongTensor(padList)\n",
        "  return padVar,lengths"
      ],
      "execution_count": null,
      "outputs": []
    },
    {
      "cell_type": "code",
      "metadata": {
        "id": "pAgExYvX8yhh",
        "colab_type": "code",
        "colab": {}
      },
      "source": [
        "#返回填充前(加入结束index EOS_token做标记)最长的一个长度和填充后的输入序列张量和填充后的标记mask\n",
        "def outputVar(l,voc):\n",
        "  indexes_batch=[indexesFromSentence(voc,sentence) for sentence in l]\n",
        "  max_target_len=max([len(indexes) for indexes in indexes_batch])\n",
        "  padList=zeroPadding(indexes_batch)\n",
        "  mask=binaryMatrix(padList)\n",
        "  mask=torch.ByteTensor(mask)\n",
        "  padVar=torch.LongTensor(padList)\n",
        "  return padVar,mask,max_target_len\n",
        "\n",
        "def batch2TrainData(voc,pair_batch):\n",
        "  pair_batch.sort(key=lambda x:len(x[0].split(\" \")),reverse=True)\n",
        "  input_batch,output_batch=[],[]\n",
        "  for pair in pair_batch:\n",
        "    input_batch.append(pair[0])\n",
        "    output_batch.append(pair[1])\n",
        "  inp,lengths=inputVar(input_batch,voc)\n",
        "  output,mask,max_target_len=outputVar(output_batch,voc)\n",
        "  return inp,lengths,output,mask,max_target_len"
      ],
      "execution_count": null,
      "outputs": []
    },
    {
      "cell_type": "code",
      "metadata": {
        "id": "Q2QWRqd1_7PQ",
        "colab_type": "code",
        "colab": {
          "base_uri": "https://localhost:8080/",
          "height": 538
        },
        "outputId": "ad1d4413-16e6-4b7c-d23e-d61a96d3eb52"
      },
      "source": [
        "small_batch_size=5\n",
        "batches=batch2TrainData(voc,[random.choice(pairs) for _ in range(small_batch_size)])\n",
        "input_variable,lengths,target_variable,mask,max_target_len=batches\n",
        "print(\"input_variable:\",input_variable)\n",
        "print(\"lengths:\",lengths)\n",
        "print(\"target_variable:\",target_variable)\n",
        "print(\"mask:\",mask)"
      ],
      "execution_count": null,
      "outputs": [
        {
          "output_type": "stream",
          "text": [
            "input_variable: tensor([[243, 423,  42, 125, 168],\n",
            "        [  7,  77,  66,  25,   4],\n",
            "        [ 14, 478, 133, 201,   2],\n",
            "        [ 12,  40, 381, 482,   0],\n",
            "        [203, 175, 478,   4,   0],\n",
            "        [200,   4,   4,   2,   0],\n",
            "        [  4,   2,   2,   0,   0],\n",
            "        [  4,   0,   0,   0,   0],\n",
            "        [  4,   0,   0,   0,   0],\n",
            "        [  2,   0,   0,   0,   0]])\n",
            "lengths: tensor([10,  7,  7,  6,  3])\n",
            "target_variable: tensor([[ 319,  123,   27,   50,   47],\n",
            "        [  25,  282,  332,   14,    7],\n",
            "        [  95,   27,  118,    7,  656],\n",
            "        [ 410,   95,  381,  279,  261],\n",
            "        [   7,  118,  160,    6,   36],\n",
            "        [ 170,  743,    4,    2,    6],\n",
            "        [  71,  175,    2,    0,    2],\n",
            "        [1802,    6,    0,    0,    0],\n",
            "        [   4,    2,    0,    0,    0],\n",
            "        [   2,    0,    0,    0,    0]])\n",
            "mask: tensor([[1, 1, 1, 1, 1],\n",
            "        [1, 1, 1, 1, 1],\n",
            "        [1, 1, 1, 1, 1],\n",
            "        [1, 1, 1, 1, 1],\n",
            "        [1, 1, 1, 1, 1],\n",
            "        [1, 1, 1, 1, 1],\n",
            "        [1, 1, 1, 0, 1],\n",
            "        [1, 1, 0, 0, 0],\n",
            "        [1, 1, 0, 0, 0],\n",
            "        [1, 0, 0, 0, 0]], dtype=torch.uint8)\n"
          ],
          "name": "stdout"
        }
      ]
    },
    {
      "cell_type": "markdown",
      "metadata": {
        "id": "svzSOeVRAkTl",
        "colab_type": "text"
      },
      "source": [
        "# 3. 定义模型\n",
        "## Seq2Seq模型\n",
        "我们聊天机器人的大脑是序列到序列(seq2seq）模型。 seq2seq模型的目标是将可变长度序列作为输入，并使用固定大小的模型将可变长度序列作为输出返回。\n",
        "\n",
        "Sutskever et al. 发现通过一起使用两个独立的RNN，我们可以完成这项任务。 第一个RNN充当编码器，其将可变长度输入序列编码为固定长度上下文向量。 理论上，该上下文向量(RNN的最终隐藏层）将包含关于输入到机器人的查询语句的语义信息。 第二个RNN是一个解码器，它接收输入文字和上下文矢量，并返回序列中下一句文字的概率和在下一次迭代中使用的隐藏状态。\n",
        "\n",
        "![avatar](https://pytorch.apachecn.org/docs/1.0/img/32a87cf8d0353ceb0037776f833b92a7.jpg)\n",
        "\n",
        "## 编码器\n",
        "编码器RNN每次迭代中输入一个语句输出一个token(例如，一个单词），同时在这时间内输出“输出”向量和“隐藏状态”向量。 然后将隐藏状态向量传递到下一步，并记录输出向量。 编码器将其在序列中的每一点处看到的上下文转换为高维空间中的一系列点，解码器将使用这些点为给定任务生成有意义的输出。\n",
        "\n",
        "我们的编码器的核心是由 Cho et al. 等人发明的多层门循环单元。 在2014年，我们将使用GRU的双向变体，这意味着基本上有两个独立的RNN：一个以正常的顺序输入输入序列，另一个以相反的顺序输入输入序列。 每个网络的输出在每个时间步骤求和。 使用双向GRU将为我们提供编码过去和未来上下文的优势。\n",
        "\n",
        "双向RNN：\n",
        "\n",
        "![avatar](https://pytorch.apachecn.org/docs/1.0/img/c653271eb5fb762482bceb5e2464e680.jpg)\n",
        "\n",
        "注意:embedding层用于在任意大小的特征空间中对我们的单词索引进行编码。 对于我们的模型，此图层会将每个单词映射到大小为hidden_size的特征空间。 训练后，这些值会被编码成和他们相似的有意义词语。\n",
        "\n",
        "最后，如果将填充的一批序列传递给RNN模块，我们必须分别使用torch.nn.utils.rnn.pack_padded_sequence和torch.nn.utils.rnn.pad_packed_sequence在RNN传递时分别进行填充和反填充。\n",
        "\n",
        "## 计算图:\n",
        "\n",
        "* 将单词索引转换为词嵌入 embeddings。\n",
        "* 为RNN模块打包填充批次序列。\n",
        "* 通过GRU进行前向传播。\n",
        "* 反填充。\n",
        "* 对双向GRU输出求和。\n",
        "* 返回输出和最终隐藏状态。\n",
        "\n",
        "### 输入:\n",
        "\n",
        "* input_seq：一批输入句子; shape =(max_length，batch_size）\n",
        "* input_lengths：一批次中每个句子对应的句子长度列表;shape=(batch_size)\n",
        "* hidden:隐藏状态; shape =(n_layers x num_directions，batch_size，hidden_size)\n",
        "### 输出:\n",
        "\n",
        "* outputs：GRU最后一个隐藏层的输出特征(双向输出之和）; shape =(max_length，batch_size，hidden_size）\n",
        "* hidden：从GRU更新隐藏状态; shape =(n_layers x num_directions，batch_size，hidden_size）"
      ]
    },
    {
      "cell_type": "code",
      "metadata": {
        "id": "ERspS4tIISO_",
        "colab_type": "code",
        "colab": {}
      },
      "source": [
        "class EncoderRNN(nn.Module):\n",
        "  def __init__(self,hidden_size,embedding,n_layers=1,dropout=0):\n",
        "    super(EncoderRNN,self).__init__()\n",
        "    self.n_layers=n_layers\n",
        "    self.hidden_size=hidden_size\n",
        "    self.embedding=embedding\n",
        "\n",
        "    # Initialize GRU; the input_size and hidden_size params are both set to 'hidden_size'\n",
        "    #   because our input size is a word embedding with number of features == hidden_size\n",
        "    self.gru=nn.GRU(hidden_size,hidden_size,n_layers,dropout=(0 if n_layers==1 else dropout),bidirectional=True)\n",
        "\n",
        "  def forward(self,input_seq,input_lengths,hidden=None):\n",
        "    #将输入的词索引转为word embedding\n",
        "    embedded=self.embedding(input_seq)\n",
        "    #pack padded batch of sequences for RNN module\n",
        "    packed=torch.nn.utils.rnn.pack_padded_sequence(embedded,input_lengths)\n",
        "    #将pack后的输入送进gru\n",
        "    outputs,hidden=self.gru(packed,hidden)\n",
        "    #unpack padding\n",
        "    outputs,_=torch.nn.utils.rnn.pad_packed_sequence(outputs)\n",
        "    #两个方向相加\n",
        "    outputs=outputs[:,:,:self.hidden_size]+outputs[:,:,self.hidden_size:]\n",
        "    return outputs,hidden"
      ],
      "execution_count": null,
      "outputs": []
    },
    {
      "cell_type": "markdown",
      "metadata": {
        "id": "yrLOGSgkN5Ur",
        "colab_type": "text"
      },
      "source": [
        "## 解码器\n",
        "解码器RNN以token-by-token的方式生成响应语句。 它使用编码器的上下文向量和内部隐藏状态来生成序列中的下一个单词。 它持续生成单词，直到输出是EOS_token，这个表示句子的结尾。 一个vanilla seq2seq解码器的常见问题是，如果我们只依赖于上下文向量来编码整个输入序列的含义，那么我们很可能会丢失信息。尤其是在处理长输入序列时，这极大地限制了我们的解码器的能力。\n",
        "\n",
        "为了解决这个问题，,Bahdanau et al. 等人创建了一种“attention mechanism”，允许解码器关注输入序列的某些部分，而不是在每一步都使用完全固定的上下文。\n",
        "\n",
        "在一个高的层级中，用解码器的当前隐藏状态和编码器输出来计算注意力。 输出注意力的权重与输入序列具有相同的大小，允许我们将它们乘以编码器输出，给出一个加权和，表示要注意的编码器输出部分。 Sean Robertson 的图片很好地描述了这一点：\n",
        "\n",
        "![avatar](https://pytorch.apachecn.org/docs/1.0/img/603ac943f18d1acfa71487283e63f35f.jpg)\n",
        "\n",
        "Luong et al. 通过创造“Global attention”，改善了Bahdanau et al. 的基础工作。 关键的区别在于，对于“Global attention”，我们考虑所有编码器的隐藏状态，而不是Bahdanau等人的“Local attention”，它只考虑当前步中编码器的隐藏状态。 另一个区别在于，通过“Global attention”，我们仅使用当前步的解码器的隐藏状态来计算注意力权重(或者能量）。 Bahdanau等人的注意力计算需要知道前一步中解码器的状态。 此外，Luong等人提供各种方法来计算编码器输出和解码器输出之间的注意权重(能量），称之为“score functions”：\n",
        "![avatar](https://pytorch.apachecn.org/docs/1.0/img/7818f6b40cbd799eddec20743b45fde5.jpg)\n",
        "\n",
        "其中$h_t$= 当前目标解码器状态，$\\bar{h}_s​$= 所有编码器状态。\n",
        "\n",
        "总体而言，Global attention机制可以通过下图进行总结。 请注意，我们将“Attention Layer”用一个名为 Attn 的 nn.Module 来单独实现。 该模块的输出是经过softmax标准化后权重张量的大小(batch_size，1，max_length）。\n",
        "![avatar](https://pytorch.apachecn.org/docs/1.0/img/c8c749463168f40707b8cd12477a4e3e.jpg)\n",
        "\n"
      ]
    },
    {
      "cell_type": "code",
      "metadata": {
        "id": "Pp6QQIAXPjJl",
        "colab_type": "code",
        "colab": {}
      },
      "source": [
        "#Luong attention layer\n",
        "\n",
        "class Attn(torch.nn.Module):\n",
        "  def __init__(self,method,hidden_size):\n",
        "    super(Attn,self).__init__()\n",
        "    self.method=method\n",
        "    if self.method not in [\"dot\",\"general\",\"concat\"]:\n",
        "      raise ValueError(self.method,\"is not an appropriate attention method\")\n",
        "\n",
        "    self.hidden_size=hidden_size\n",
        "    if self.method==\"general\":\n",
        "      self.attn=torch.nn.Linear(self.hidden_size,hidden_size)\n",
        "    elif self.method==\"concat\":\n",
        "      self.attn=torch.nn.Linear(self.hidden_size*2,hidden_size)\n",
        "      self.v=torch.nn.Parameter(torch.FloatTensor(hidden_size)) #可训练参数\n",
        "\n",
        "  def dot_score(self,hidden,encoder_output):\n",
        "    return torch.sum(hidden*encoder_output,dim=2)\n",
        "\n",
        "  def general_score(self,hidden,encoder_output):\n",
        "    energy=self.attn(encoder_output)\n",
        "    return torch.sum(hidden*energy,dim=2)\n",
        "\n",
        "\n",
        "  def concat_score(self,hidden,encoder_output):\n",
        "    energy=self.attn(torch.cat((hidden.expand(encoder_output.size(0),-1,-1),encoder_output),2)).tanh()\n",
        "    return torch.sum(self.v*energy,dim=2)\n",
        "\n",
        "  def forward(self,hidden,encoder_outputs):\n",
        "    #计算权重\n",
        "    if self.method==\"general\":\n",
        "      attn_energies=self.general_score(hidden,encoder_outputs)\n",
        "    elif self.method==\"concat\":\n",
        "      attn_energies=self.concat_score(hidden,encoder_outputs)\n",
        "    elif self.method==\"dot\":\n",
        "      attn_energies=self.dot_score(hidden,encoder_outputs)\n",
        "\n",
        "    #转置 max_length和batch_size维\n",
        "    attn_energies=attn_energies.t()\n",
        "\n",
        "    #返回归一化的概率得分\n",
        "    return F.softmax(attn_energies,dim=1).unsqueeze(1)"
      ],
      "execution_count": null,
      "outputs": []
    },
    {
      "cell_type": "markdown",
      "metadata": {
        "id": "Hj0YP0kOBDHD",
        "colab_type": "text"
      },
      "source": [
        "现在我们已经定义了注意力子模块，我们可以实现真实的解码器模型。 对于解码器，我们将每次手动进行一批次的输入。 这意味着我们的词嵌入张量和GRU输出都将具有相同大小(1，batch_size，hidden_size）。\n",
        "\n",
        "### 计算图:\n",
        "\n",
        "* 获取当前输入的词嵌入\n",
        "* 通过单向GRU进行前向传播\n",
        "* 通过2输出的当前GRU计算注意力权重\n",
        "* 将注意力权重乘以编码器输出以获得新的“weighted sum”上下文向量\n",
        "* 使用Luong eq.5连接加权上下文向量和GRU输出\n",
        "* 使用Luong eq.6预测下一个单词(没有softmax）\n",
        "* 返回输出和最终隐藏状态\n",
        "\n",
        "\n",
        "\n",
        "#### 输入:\n",
        "\n",
        "* input_step：每一步输入序列批次(一个单词）; shape =(1，batch_size）\n",
        "* last_hidden：GRU的最终隐藏层; shape =(n_layers x num_directions，batch_size，hidden_size）\n",
        "* encoder_outputs：编码器模型的输出; shape =(max_length，batch_size，hidden_size）\n",
        "\n",
        "#### 输出:\n",
        "\n",
        "* output:一个softmax标准化后的张量， 代表了每个单词在解码序列中是下一个输出单词的概率; shape =(batch_size，voc.num_words）\n",
        "* hidden: GRU的最终隐藏状态; shape =(n_layers x num_directions，batch_size，hidden_size）"
      ]
    },
    {
      "cell_type": "code",
      "metadata": {
        "id": "i2HyEBHmCLjp",
        "colab_type": "code",
        "colab": {}
      },
      "source": [
        "class LuongAttnDecoderRNN(nn.Module):\n",
        "  def __init__(self,attn_model,embedding,hidden_size,output_size,n_layers=1,dropout=0.1):\n",
        "    super(LuongAttnDecoderRNN,self).__init__()\n",
        "\n",
        "    self.attn_model=attn_model\n",
        "    self.hidden_size=hidden_size\n",
        "    self.output_size=output_size\n",
        "    self.n_layers=n_layers\n",
        "    self.dropout=dropout\n",
        "\n",
        "    self.embedding=embedding\n",
        "    self.embedding_dropout=nn.Dropout(dropout)\n",
        "    self.gru=nn.GRU(hidden_size,hidden_size,n_layers,dropout=(0 if n_layers==1 else dropout))\n",
        "    self.concat=nn.Linear(hidden_size*2,hidden_size)\n",
        "    self.out=nn.Linear(hidden_size,output_size)\n",
        "    self.attn=Attn(attn_model,hidden_size)\n",
        "\n",
        "  def forward(self,input_step,last_hidden,encoder_outputs):\n",
        "    embedded=self.embedding(input_step) #输入一个单词，获取Embedding向量\n",
        "    embedded=self.embedding_dropout(embedded) #对Embedding向量进行Dropout\n",
        "    rnn_output,hidden=self.gru(embedded,last_hidden) #将Dropout后的embedding向量输入GRU模块\n",
        "    #计算注意力权重\n",
        "    attn_weights=self.attn(rnn_output,encoder_outputs) #使用解码器中当前时间步GRU的output与encoder_outputs计算注意力\n",
        "    context=attn_weights.bmm(encoder_outputs.transpose(0,1)) #bmm:batch的矩阵乘法 ，注意力矩阵和encoder_outputs进行计算获取context\n",
        "    rnn_output=rnn_output.squeeze(0)\n",
        "    context=context.squeeze(1)\n",
        "    concat_input=torch.cat((rnn_output,context),1)\n",
        "    concat_output=torch.tanh(self.concat(concat_input))\n",
        "    #预测下一个词\n",
        "    output=self.out(concat_output)\n",
        "    output=F.softmax(output,dim=1)\n",
        "    return output,hidden\n"
      ],
      "execution_count": null,
      "outputs": []
    },
    {
      "cell_type": "markdown",
      "metadata": {
        "id": "CDy15m8rozNR",
        "colab_type": "text"
      },
      "source": [
        "# 3.定义训练步骤\n",
        "## Masked 损失\n",
        "由于我们处理的是批量填充序列，因此在计算损失时我们不能简单地考虑张量的所有元素。 我们定义maskNLLLoss可以根据解码器的输出张量、描述目标张量填充的binary mask张量来计算损失。 该损失函数计算与mask tensor中的1对应的元素的平均负对数似然。"
      ]
    },
    {
      "cell_type": "code",
      "metadata": {
        "id": "mAwCC0aapBaV",
        "colab_type": "code",
        "colab": {}
      },
      "source": [
        "def maskNLLLoss(inp,target,mask):\n",
        "  nTotal=mask.sum()\n",
        "  crossEntropy=-torch.log(torch.gather(inp,1,target.view(-1,1)).squeeze(1))\n",
        "  loss=crossEntropy.masked_select(mask).mean()\n",
        "  loss=loss.to(device)\n",
        "  return loss,nTotal.item()"
      ],
      "execution_count": null,
      "outputs": []
    },
    {
      "cell_type": "markdown",
      "metadata": {
        "id": "JeiB_cOZvtlM",
        "colab_type": "text"
      },
      "source": [
        "## 单次训练迭代\n",
        "train 函数包含单次训练迭代的算法(单批输入）。\n",
        "\n",
        "我们将使用一些巧妙的技巧来帮助融合：\n",
        "\n",
        "第一个技巧是使用 teacher forcing。 这意味着在一些概率是由teacher_forcing_ratio设置，我们使用当前目标单词作为解码器的下一个输入，而不是使用解码器的当前推测。 该技巧充当解码器的 training wheels，有助于更有效的训练。 然而，teacher forcing 可能导致推导中的模型不稳定，因为解码器可能没有足够的机会在训练期间真正地制作自己的输出序列。 因此，我们必须注意我们如何设置teacher_forcing_ratio，同时不要被快速的收敛所迷惑。\n",
        "我们实现的第二个技巧是梯度裁剪(gradient clipping)。 这是一种用于对抗“爆炸梯度(exploding gradient）”问题的常用技术。 本质上，通过将梯度剪切或阈值化到最大值，我们可以防止在损失函数中梯度以指数方式增长并发生溢出(NaN）或者越过梯度陡峭的悬崖。\n",
        "grad_clip\n",
        "\n",
        "图片来源: Goodfellow et al. Deep Learning. 2016. https://www.deeplearningbook.org/\n",
        "\n",
        "Sequence of Operations:\n",
        "\n",
        "### 操作顺序:\n",
        "\n",
        "* 通过编码器前向计算整个批次输入。\n",
        "* 将解码器输入初始化为SOS_token，将隐藏状态初始化为编码器的最终隐藏状态。\n",
        "* 通过解码器一次一步地前向计算输入一批序列。\n",
        "* 如果teacher forcing算法：将下一个解码器输入设置为当前目标; 否则：将下一个解码器输入设置为当前解码器输出。\n",
        "* 计算并累积损失。\n",
        "* 执行反向传播。\n",
        "* 裁剪梯度。\n",
        "* 更新编码器和解码器模型参数。\n",
        "\n",
        "\n",
        "注意:\n",
        "\n",
        "PyTorch的RNN模块(RNN，LSTM，GRU）可以像任何其他非重复层一样使用，只需将整个输入序列(或一批序列）传递给它们。 我们在编码器中使用GRU层就是这样的。 实际情况是，在计算中有一个迭代过程循环计算隐藏状态的每一步。 或者，你每次只运行一个模块。 在这种情况下，我们在训练过程中手动循环遍历序列就像我们必须为解码器模型做的那样。 只要你正确的维护这些模型的模块，就可以非常简单的实现顺序模型。"
      ]
    },
    {
      "cell_type": "code",
      "metadata": {
        "id": "v6ur6ftfy5mp",
        "colab_type": "code",
        "colab": {}
      },
      "source": [
        "def train(input_variable,lengths,target_variable,mask,max_target_len,encoder,decoder,embedding,encoder_optimizer,decoder_optimizer,batch_size,clip,max_length=MAX_LENGTH):\n",
        "  #梯度归零\n",
        "  encoder_optimizer.zero_grad()\n",
        "  decoder_optimizer.zero_grad()\n",
        "\n",
        "  #Set device options\n",
        "  input_variable=input_variable.to(device)\n",
        "  lengths=lengths.to(device)\n",
        "  target_variable=target_variable.to(device)\n",
        "  mask=mask.to(device)\n",
        "\n",
        "  #初始化变量\n",
        "  loss=0\n",
        "  print_losses=[]\n",
        "  n_totals=0\n",
        "\n",
        "  encoder_outputs,encoder_hidden=encoder(input_variable,lengths)\n",
        "\n",
        "  decoder_input=torch.LongTensor([[SOS_token for _ in range(batch_size)]])\n",
        "  decoder_input=decoder_input.to(device)\n",
        "\n",
        "  #encoder最后的隐藏状态作为decoder的初始隐藏状态\n",
        "  decoder_hidden=encoder_hidden[:decoder.n_layers]\n",
        "\n",
        "  #是否使用teacher forcing\n",
        "  use_teacher_forcing=True if random.random()<teacher_forcing_ratio else False\n",
        "\n",
        "  if use_teacher_forcing:\n",
        "    for t in range(max_target_len):\n",
        "      decoder_output,decoder_hidden=decoder(decoder_input,decoder_hidden,encoder_outputs)\n",
        "      #Teacher forcing:next input is current target\n",
        "      decoder_input=target_variable[t].view(1,-1)\n",
        "\n",
        "      #计算损失\n",
        "      mask_loss,nTotal=maskNLLLoss(decoder_output,target_variable[t],mask[t])\n",
        "      loss+=mask_loss\n",
        "      print_losses.append(mask_loss.item()*nTotal)\n",
        "      n_totals+=nTotal\n",
        "\n",
        "  else:\n",
        "    for t in range(max_target_len):\n",
        "      decoder_output,decoder_hidden=decoder(decoder_input,decoder_hidden,encoder_outputs)\n",
        "      _,topi=decoder_output.topk(1)\n",
        "      decoder_input=torch.LongTensor([[topi[i][0] for i in range(batch_size)]])\n",
        "      decoder_input=decoder_input.to(device)\n",
        "\n",
        "      #计算损失\n",
        "      mask_loss,nTotal=maskNLLLoss(decoder_output,target_variable[t],mask[t])\n",
        "      loss+=mask_loss\n",
        "      print_losses.append(mask_loss.item()*nTotal)\n",
        "      n_totals+=n_totals\n",
        "  #反向传播\n",
        "  loss.backward()\n",
        "  #梯度裁剪\n",
        "  _=torch.nn.utils.clip_grad_norm_(encoder.parameters(),clip)\n",
        "  _=torch.nn.utils.clip_grad_norm_\n",
        "\n",
        "  #权重更新\n",
        "  encoder_optimizer.step()\n",
        "  decoder_optimizer.step()\n",
        "  return sum(print_losses)/n_totals"
      ],
      "execution_count": null,
      "outputs": []
    },
    {
      "cell_type": "markdown",
      "metadata": {
        "id": "9NrukO00p_G_",
        "colab_type": "text"
      },
      "source": [
        "## 训练迭代\n",
        "现在终于将完整的训练步骤与数据结合在一起了。 给定传递的模型，优化器，数据等，trainIters函数负责运行n_iterations的训练。这个功能不言自明，因为我们通过train函数的完成了繁重工作。\n",
        "\n",
        "需要注意的一点是，当我们保存模型时，我们会保存一个包含编码器和解码器state_dicts(参数）、优化器的state_dicts、损失、迭代等的压缩包。以这种方式保存模型将为我们checkpoint,提供最大的灵活性。 加载checkpoint后，我们将能够使用模型参数进行推理，或者我们可以在我们中断的地方继续训练"
      ]
    },
    {
      "cell_type": "code",
      "metadata": {
        "id": "lPWU0mBbazDq",
        "colab_type": "code",
        "colab": {}
      },
      "source": [
        "def trainIters(model_name,voc,pairs,encoder,decoder,encoder_optimizer,decoder_optimizer,embedding,encoder_n_layers,decoder_n_layers,save_dir,n_iteration,batch_size,print_every,save_every,clip,corpus_name,loadFilename):\n",
        "  training_batches=[batch2TrainData(voc,[random.choice(pairs) for _ in range(batch_size)] )for _ in range(n_iteration)]\n",
        "  print(\"初始化...\")\n",
        "  start_iteration=1\n",
        "  print_loss=0\n",
        "  if loadFilename:\n",
        "    start_iteration=checkpoint['iteration']+1\n",
        "  print(\"Training...\")\n",
        "  for iteration in range(start_iteration,n_iteration+1):\n",
        "    training_batch=training_batches[iteration-1]\n",
        "    #提取训练所需数据\n",
        "    input_variable,lengths,target_variable,mask,max_target_len=training_batch\n",
        "    loss=train(input_variable,lengths,target_variable,mask,max_target_len,encoder,decoder,embedding,encoder_optimizer,decoder_optimizer,batch_size,clip)\n",
        "    print_loss+=loss\n",
        "\n",
        "    if iteration % print_every==0:\n",
        "      print_loss_avg=print_loss /print_every\n",
        "      print(\"Iteration: {}; Percent complete: {:.1f}%; Average loss: {:.4f}\".format(iteration, iteration / n_iteration * 100, print_loss_avg))\n",
        "      print_loss = 0\n",
        "\n",
        "    #save checkpoint\n",
        "    if(iteration % save_every==0):\n",
        "      directory=os.path.join(save_dir,model_name,corpus_name,\"{}-{}-{}\".format(encoder_n_layers,decoder_n_layers,hidden_size))\n",
        "      if not os.path.exists(directory):\n",
        "        os.makedirs(directory)\n",
        "      torch.save({\"iteration\":iteration,\"en\":encoder.state_dict(),\"de\":decoder.state_dict(),\"en_opt\":encoder_optimizer.state_dict(),\n",
        "      \"de_opt\":decoder_optimizer.state_dict(),\"loss\":loss,\"voc_dict\":voc.__dict__,\"embedding\":embedding.state_dict()\n",
        "      },os.path.join(directory,\"{}_{}.tar\".format(iteration,\"checkpoint\")))\n"
      ],
      "execution_count": null,
      "outputs": []
    },
    {
      "cell_type": "markdown",
      "metadata": {
        "id": "lGxmtesafawZ",
        "colab_type": "text"
      },
      "source": [
        "# 4.评估定义\n",
        "\n",
        "在训练模型后，我们希望能够自己与机器人交谈。 首先，我们必须定义我们希望模型如何解码编码输入。\n",
        "\n",
        "## 贪婪解码\n",
        "贪婪解码是我们在不使用 teacher forcing时在训练期间使用的解码方法。 换句话说，对于每一步，我们只需从具有最高softmax值的decoder_output中选择单词。 该解码方法在单步长级别上是最佳的。\n",
        "\n",
        "为了便于贪婪解码操作，我们定义了一个GreedySearchDecoder类。 当运行时，类的实例化对象输入序列(input_seq）的大小是(input_seq length，1），标量输入(input_length）长度的张量和max_length来约束响应句子长度。 使用以下计算图来评估输入句子：\n",
        "\n",
        "## 计算图:\n",
        "\n",
        "* 通过编码器模型前向计算。\n",
        "* 准备编码器的最终隐藏层，作为解码器的第一个隐藏输入。\n",
        "* 将解码器的第一个输入初始化为SOS_token。\n",
        "* 将初始化张量追加到解码后的单词中。\n",
        "* 一次迭代解码一个单词token：\n",
        "通过解码器进行前向计算。\n",
        "获得最可能的单词token及其softmax分数。\n",
        "记录token和分数。\n",
        "准备当前token作为下一个解码器的输入。\n",
        "* 返回收集到的单词 tokens 和 分数。"
      ]
    },
    {
      "cell_type": "code",
      "metadata": {
        "id": "XKVsvNglg9iC",
        "colab_type": "code",
        "colab": {}
      },
      "source": [
        "class GreedySearchDecoder(nn.Module):\n",
        "    def __init__(self, encoder, decoder):\n",
        "        super(GreedySearchDecoder, self).__init__()\n",
        "        self.encoder = encoder\n",
        "        self.decoder = decoder\n",
        "\n",
        "    def forward(self, input_seq, input_length, max_length):\n",
        "        # Forward input through encoder model\n",
        "        encoder_outputs, encoder_hidden = self.encoder(input_seq, input_length)\n",
        "        # Prepare encoder's final hidden layer to be first hidden input to the decoder\n",
        "        decoder_hidden = encoder_hidden[:decoder.n_layers]\n",
        "        # Initialize decoder input with SOS_token\n",
        "        decoder_input = torch.ones(1, 1, device=device, dtype=torch.long) * SOS_token\n",
        "        # Initialize tensors to append decoded words to\n",
        "        all_tokens = torch.zeros([0], device=device, dtype=torch.long)\n",
        "        all_scores = torch.zeros([0], device=device)\n",
        "        # Iteratively decode one word token at a time\n",
        "        for _ in range(max_length):\n",
        "            # Forward pass through decoder\n",
        "            decoder_output, decoder_hidden = self.decoder(decoder_input, decoder_hidden, encoder_outputs)\n",
        "            # Obtain most likely word token and its softmax score\n",
        "            decoder_scores, decoder_input = torch.max(decoder_output, dim=1)\n",
        "            # Record token and score\n",
        "            all_tokens = torch.cat((all_tokens, decoder_input), dim=0)\n",
        "            all_scores = torch.cat((all_scores, decoder_scores), dim=0)\n",
        "            # Prepare current token to be next decoder input (add a dimension)\n",
        "            decoder_input = torch.unsqueeze(decoder_input, 0)\n",
        "        # Return collections of word tokens and scores\n",
        "        return all_tokens, all_scores"
      ],
      "execution_count": null,
      "outputs": []
    },
    {
      "cell_type": "markdown",
      "metadata": {
        "id": "ELY37jE9hL93",
        "colab_type": "text"
      },
      "source": [
        "# 5.评估我们的文本\n",
        "现在我们已经定义了解码方法，我们可以编写用于评估字符串输入句子的函数。 evaluate函数管理输入句子的低层级处理过程。我们首先使用batch_size == 1将句子格式化为输入批量的单词索引。我们通过将句子的单词转换为相应的索引，并通过转换维度来为我们的模型准备张量。我们还创建了一个 lengths 张量，其中包含输入句子的长度。在这种情况下，lengths 是标量因为我们一次只评估一个句子(batch_size == 1）。接下来，我们使用我们的GreedySearchDecoder实例化后的对象(searcher）获得解码响应句子的张量。最后，我们将响应的索引转换为单词并返回已解码单词的列表。\n",
        "\n",
        "evaluateInput充当聊天机器人的用户接口。调用时，将生成一个输入文本字段，我们可以在其中输入查询语句。在输入我们的输入句子并按Enter后，我们的文本以与训练数据相同的方式标准化，并最终被输入到评估函数以获得解码的输出句子。我们循环这个过程，这样我们可以继续与我们的机器人聊天直到我们输入“q”或“quit”。\n",
        "\n",
        "最后，如果输入的句子包含一个不在词汇表中的单词，我们会通过打印错误消息并提示用户输入另一个句子来优雅地处理。"
      ]
    },
    {
      "cell_type": "code",
      "metadata": {
        "id": "Lcb42GaBhal0",
        "colab_type": "code",
        "colab": {}
      },
      "source": [
        "def evaluate(encoder, decoder, searcher, voc, sentence, max_length=MAX_LENGTH):\n",
        "    ### Format input sentence as a batch\n",
        "    # words -> indexes\n",
        "    indexes_batch = [indexesFromSentence(voc, sentence)]\n",
        "    # Create lengths tensor\n",
        "    lengths = torch.tensor([len(indexes) for indexes in indexes_batch])\n",
        "    # Transpose dimensions of batch to match models' expectations\n",
        "    input_batch = torch.LongTensor(indexes_batch).transpose(0, 1)\n",
        "    # Use appropriate device\n",
        "    input_batch = input_batch.to(device)\n",
        "    lengths = lengths.to(device)\n",
        "    # Decode sentence with searcher\n",
        "    tokens, scores = searcher(input_batch, lengths, max_length)\n",
        "    # indexes -> words\n",
        "    decoded_words = [voc.index2word[token.item()] for token in tokens]\n",
        "    return decoded_words\n",
        "\n",
        "def evaluateInput(encoder, decoder, searcher, voc):\n",
        "    input_sentence = ''\n",
        "    while(1):\n",
        "        try:\n",
        "            # Get input sentence\n",
        "            input_sentence = input('> ')\n",
        "            # Check if it is quit case\n",
        "            if input_sentence == 'q' or input_sentence == 'quit': break\n",
        "            # Normalize sentence\n",
        "            input_sentence = normalizeString(input_sentence)\n",
        "            # Evaluate sentence\n",
        "            output_words = evaluate(encoder, decoder, searcher, voc, input_sentence)\n",
        "            # Format and print response sentence\n",
        "            output_words[:] = [x for x in output_words if not (x == 'EOS' or x == 'PAD')]\n",
        "            print('Bot:', ' '.join(output_words))\n",
        "\n",
        "        except KeyError:\n",
        "            print(\"Error: Encountered unknown word.\")"
      ],
      "execution_count": null,
      "outputs": []
    },
    {
      "cell_type": "markdown",
      "metadata": {
        "id": "yBTAh2LyheUL",
        "colab_type": "text"
      },
      "source": [
        "## 运行模型\n",
        "最后，是时候运行我们的模型了！\n",
        "\n",
        "无论我们是否想要训练或测试聊天机器人模型，我们都必须初始化各个编码器和解码器模型。 在接下来的部分中，我们设置所需要的配置，选择从头开始或设置检查点以从中加载，并构建和初始化模型。 您可以随意使用不同的配置来优化性能。"
      ]
    },
    {
      "cell_type": "code",
      "metadata": {
        "id": "SG5eNnryhkZ0",
        "colab_type": "code",
        "colab": {
          "base_uri": "https://localhost:8080/",
          "height": 50
        },
        "outputId": "0a5242d0-18c7-46d0-8b73-8906c9f7c19e"
      },
      "source": [
        "# Configure models\n",
        "model_name = 'cb_model'\n",
        "attn_model = 'dot'\n",
        "#attn_model = 'general'\n",
        "#attn_model = 'concat'\n",
        "hidden_size = 500\n",
        "encoder_n_layers = 2\n",
        "decoder_n_layers = 2\n",
        "dropout = 0.1\n",
        "batch_size = 64\n",
        "\n",
        "# Set checkpoint to load from; set to None if starting from scratch\n",
        "loadFilename = None\n",
        "checkpoint_iter = 4000\n",
        "#loadFilename = os.path.join(save_dir, model_name, corpus_name,\n",
        "#                            '{}-{}_{}'.format(encoder_n_layers, decoder_n_layers, hidden_size),\n",
        "#                            '{}_checkpoint.tar'.format(checkpoint_iter))\n",
        "\n",
        "# Load model if a loadFilename is provided\n",
        "if loadFilename:\n",
        "    # If loading on same machine the model was trained on\n",
        "    checkpoint = torch.load(loadFilename)\n",
        "    # If loading a model trained on GPU to CPU\n",
        "    #checkpoint = torch.load(loadFilename, map_location=torch.device('cpu'))\n",
        "    encoder_sd = checkpoint['en']\n",
        "    decoder_sd = checkpoint['de']\n",
        "    encoder_optimizer_sd = checkpoint['en_opt']\n",
        "    decoder_optimizer_sd = checkpoint['de_opt']\n",
        "    embedding_sd = checkpoint['embedding']\n",
        "    voc.__dict__ = checkpoint['voc_dict']\n",
        "\n",
        "print('Building encoder and decoder ...')\n",
        "# Initialize word embeddings\n",
        "embedding = nn.Embedding(voc.num_words, hidden_size)\n",
        "if loadFilename:\n",
        "    embedding.load_state_dict(embedding_sd)\n",
        "# Initialize encoder & decoder models\n",
        "encoder = EncoderRNN(hidden_size, embedding, encoder_n_layers, dropout)\n",
        "decoder = LuongAttnDecoderRNN(attn_model, embedding, hidden_size, voc.num_words, decoder_n_layers, dropout)\n",
        "if loadFilename:\n",
        "    encoder.load_state_dict(encoder_sd)\n",
        "    decoder.load_state_dict(decoder_sd)\n",
        "# Use appropriate device\n",
        "encoder = encoder.to(device)\n",
        "decoder = decoder.to(device)\n",
        "print('Models built and ready to go!')"
      ],
      "execution_count": null,
      "outputs": [
        {
          "output_type": "stream",
          "text": [
            "Building encoder and decoder ...\n",
            "Models built and ready to go!\n"
          ],
          "name": "stdout"
        }
      ]
    },
    {
      "cell_type": "markdown",
      "metadata": {
        "id": "_Wgv4z47hmT-",
        "colab_type": "text"
      },
      "source": [
        "## 执行训练\n",
        "如果要训练模型，请运行以下部分。\n",
        "\n",
        "首先我们设置训练参数，然后初始化我们的优化器，最后我们调用trainIters函数来运行我们的训练迭代。"
      ]
    },
    {
      "cell_type": "code",
      "metadata": {
        "id": "oSj-uIlkhuLK",
        "colab_type": "code",
        "colab": {}
      },
      "source": [
        "# Configure training/optimization\n",
        "clip = 50.0\n",
        "teacher_forcing_ratio = 1.0\n",
        "learning_rate = 0.0001\n",
        "decoder_learning_ratio = 5.0\n",
        "n_iteration = 4000\n",
        "print_every = 1\n",
        "save_every = 500\n",
        "\n",
        "# Ensure dropout layers are in train mode\n",
        "encoder.train()\n",
        "decoder.train()\n",
        "\n",
        "# Initialize optimizers\n",
        "print('Building optimizers ...')\n",
        "encoder_optimizer = optim.Adam(encoder.parameters(), lr=learning_rate)\n",
        "decoder_optimizer = optim.Adam(decoder.parameters(), lr=learning_rate * decoder_learning_ratio)\n",
        "if loadFilename:\n",
        "    encoder_optimizer.load_state_dict(encoder_optimizer_sd)\n",
        "    decoder_optimizer.load_state_dict(decoder_optimizer_sd)\n",
        "\n",
        "# Run training iterations\n",
        "print(\"Starting Training!\")\n",
        "trainIters(model_name, voc, pairs, encoder, decoder, encoder_optimizer, decoder_optimizer,\n",
        "           embedding, encoder_n_layers, decoder_n_layers, save_dir, n_iteration, batch_size,\n",
        "           print_every, save_every, clip, corpus_name, loadFilename)"
      ],
      "execution_count": null,
      "outputs": []
    },
    {
      "cell_type": "code",
      "metadata": {
        "id": "ugfzSlQnhx5R",
        "colab_type": "code",
        "colab": {}
      },
      "source": [
        "# Set dropout layers to eval mode\n",
        "encoder.eval()\n",
        "decoder.eval()\n",
        "\n",
        "# Initialize search module\n",
        "searcher = GreedySearchDecoder(encoder, decoder)\n",
        "\n",
        "# Begin chatting (uncomment and run the following line to begin)\n",
        "# evaluateInput(encoder, decoder, searcher, voc)"
      ],
      "execution_count": null,
      "outputs": []
    },
    {
      "cell_type": "code",
      "metadata": {
        "id": "UxHCR1V5kBRw",
        "colab_type": "code",
        "colab": {}
      },
      "source": [
        ""
      ],
      "execution_count": null,
      "outputs": []
    }
  ]
}