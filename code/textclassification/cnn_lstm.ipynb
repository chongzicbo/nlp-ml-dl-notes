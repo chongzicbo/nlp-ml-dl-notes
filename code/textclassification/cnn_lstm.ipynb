{
  "nbformat": 4,
  "nbformat_minor": 0,
  "metadata": {
    "colab": {
      "name": "cnn_lstm.ipynb",
      "provenance": [],
      "mount_file_id": "1RMiGWACc9Mx_KE3iJyEgetzOra6MCbhF",
      "authorship_tag": "ABX9TyPeYjv9a9eZRO98nCHId04p",
      "include_colab_link": true
    },
    "kernelspec": {
      "name": "python3",
      "display_name": "Python 3"
    },
    "accelerator": "GPU"
  },
  "cells": [
    {
      "cell_type": "markdown",
      "metadata": {
        "id": "view-in-github",
        "colab_type": "text"
      },
      "source": [
        "<a href=\"https://colab.research.google.com/github/chongzicbo/nlp-ml-dl-notes/blob/master/code/textclassification/cnn_lstm.ipynb\" target=\"_parent\"><img src=\"https://colab.research.google.com/assets/colab-badge.svg\" alt=\"Open In Colab\"/></a>"
      ]
    },
    {
      "cell_type": "code",
      "metadata": {
        "id": "sv5X3vv1ygz5",
        "colab_type": "code",
        "colab": {}
      },
      "source": [
        "from tensorflow.keras.preprocessing import sequence\n",
        "from tensorflow.keras.models import Sequential\n",
        "from tensorflow.keras.layers import Dense,Dropout,Activation,Embedding,LSTM,Conv1D,MaxPooling1D\n",
        "from tensorflow.keras.datasets import imdb\n",
        "import re\n",
        "import numpy as np\n",
        "import pandas as pd\n",
        "from sklearn.model_selection import train_test_split"
      ],
      "execution_count": 19,
      "outputs": []
    },
    {
      "cell_type": "markdown",
      "metadata": {
        "id": "nHf02KoTfh03",
        "colab_type": "text"
      },
      "source": [
        "# 1.参数设置"
      ]
    },
    {
      "cell_type": "code",
      "metadata": {
        "id": "UYTbKD4Sy_53",
        "colab_type": "code",
        "colab": {}
      },
      "source": [
        "#embedding 参数\n",
        "maxlen=100\n",
        "embedding_size=200\n",
        "\n",
        "#卷积参数\n",
        "kernel_size=5\n",
        "filters=128\n",
        "pool_size=4\n",
        "\n",
        "#LSTM参数\n",
        "lstm_output_size=100\n",
        "\n",
        "#训练参数\n",
        "batch_size=128\n",
        "epochs=20"
      ],
      "execution_count": 20,
      "outputs": []
    },
    {
      "cell_type": "markdown",
      "metadata": {
        "id": "RMGTcN0Yfl_7",
        "colab_type": "text"
      },
      "source": [
        "# 2.数据预处理及训练数据准备"
      ]
    },
    {
      "cell_type": "code",
      "metadata": {
        "id": "SNPYbvXn4FLh",
        "colab_type": "code",
        "colab": {}
      },
      "source": [
        "def textToChars(filePath):\n",
        "  \"\"\"\n",
        "  读取文本文件并进行处理\n",
        "  :param filePath:文件路径\n",
        "  :return:\n",
        "  \"\"\"\n",
        "  lines = []\n",
        "  df=pd.read_excel(filePath,header=None)\n",
        "  df.columns=['content']\n",
        "  for index, row in df.iterrows():\n",
        "    row=row['content']\n",
        "    row = re.sub(\"[^\\u4e00-\\u9fa5]\", \"\", str(row))  # 只保留中文\n",
        "    lines.append(list(str(row)))\n",
        "  return lines\n",
        "\n",
        "\n",
        "def getWordIndex(vocabPath):\n",
        "  \"\"\"\n",
        "  获取word2Index,index2Word\n",
        "  :param vocabPath:词汇文件\n",
        "  :return:\n",
        "  \"\"\"\n",
        "  word2Index = {}\n",
        "  with open(vocabPath, encoding=\"utf-8\") as f:\n",
        "    for line in f.readlines():\n",
        "      word2Index[line.strip()] = len(word2Index)\n",
        "  index2Word = dict(zip(word2Index.values(), word2Index.keys()))\n",
        "  return word2Index, index2Word\n",
        "\n",
        "\n",
        "def lodaData(posFile, negFile, word2Index):\n",
        "  \"\"\"\n",
        "  获取训练数据\n",
        "  :param posFile:正样本文件\n",
        "  :param negFile:负样本文件\n",
        "  :param word2Index:\n",
        "  :return:\n",
        "  \"\"\"\n",
        "  posLines = textToChars(posFile)\n",
        "  negLines = textToChars(negFile)\n",
        "  textLines=posLines+negLines\n",
        "  print(\"正样本数量%d,负样本数量%d\"%(len(posLines),len(negLines)))\n",
        "  posIndexLines = [[word2Index[word] if word2Index.get(word) else 0 for word in line] for line in posLines]\n",
        "  negIndexLines = [[word2Index[word] if word2Index.get(word) else 0 for word in line] for line in negLines]\n",
        "  lines = posIndexLines + negIndexLines\n",
        "  print(\"训练样本和测试样本共：%d 个\"%(len(lines)))\n",
        "  # lens = [len(line) for line in lines]\n",
        "  labels = [1] * len(posIndexLines) + [0] * len(negIndexLines)\n",
        "  padSequences = sequence.pad_sequences(lines, maxlen=maxlen, padding=\"post\", truncating=\"post\")\n",
        "  X_train,X_test,y_train,y_test=train_test_split(padSequences,np.array(labels),test_size=0.2,random_state=42)\n",
        "  return (textLines,labels),(X_train,X_test,y_train,y_test)"
      ],
      "execution_count": 21,
      "outputs": []
    },
    {
      "cell_type": "code",
      "metadata": {
        "id": "InQv-eRR4KSk",
        "colab_type": "code",
        "colab": {
          "base_uri": "https://localhost:8080/",
          "height": 67
        },
        "outputId": "e91ed554-2f4e-4812-8f78-4d2d6eff4f7c"
      },
      "source": [
        "vocabPath=\"/content/drive/My Drive/data/vocab.txt\"\n",
        "negFilePath=\"/content/drive/My Drive/data/text_classify/sentiment/neg.xls\"\n",
        "posFilePath=\"/content/drive/My Drive/data/text_classify/sentiment/pos.xls\"\n",
        "word2Index, index2Word=getWordIndex(vocabPath)\n",
        "(textLines,labels),(X_train,X_test,y_train,y_test)=lodaData(posFile=posFilePath,negFile=negFilePath,word2Index=word2Index)\n",
        "print(X_train.shape,X_test.shape,y_train.shape,y_test.shape)"
      ],
      "execution_count": 22,
      "outputs": [
        {
          "output_type": "stream",
          "text": [
            "正样本数量10677,负样本数量10428\n",
            "训练样本和测试样本共：21105 个\n",
            "(16884, 100) (4221, 100) (16884,) (4221,)\n"
          ],
          "name": "stdout"
        }
      ]
    },
    {
      "cell_type": "code",
      "metadata": {
        "id": "1bB6oIYg5OV5",
        "colab_type": "code",
        "colab": {
          "base_uri": "https://localhost:8080/",
          "height": 185
        },
        "outputId": "56bb83b0-cf67-4c65-9e2d-8e0f5f965652"
      },
      "source": [
        "X_train[0],y_train[0]"
      ],
      "execution_count": 23,
      "outputs": [
        {
          "output_type": "execute_result",
          "data": {
            "text/plain": [
              "(array([6821, 3221,  671, 3315, 2769,  702,  782, 6371,  711, 2523, 2141,\n",
              "        4500, 4638,  741,  852, 1079, 2159, 3300,  763, 5042, 1296,  679,\n",
              "        6814, 2828,  809, 1184, 1762, 2110, 3413, 7027, 2110, 6814, 4638,\n",
              "        5632, 3131, 4638, 4761, 6399, 7028, 3946,  749, 7390, 4708, 2399,\n",
              "        7977, 1469, 4852,  833, 4384, 1862, 2128, 6871, 5632, 3131, 4638,\n",
              "        2692, 6399, 6632, 3341, 6632, 2483,  749, 4684, 1168, 1724, 2335,\n",
              "        1765, 7448,  782, 5102, 1762, 5632, 4197,  704, 3221, 1963, 3634,\n",
              "        4638, 3953, 2207, 5445, 5546, 2483, 2769,  812, 3187, 1213, 2850,\n",
              "        2834,  852, 3221, 1963, 3362, 2769,  812, 2958, 2995,  671,  763,\n",
              "        5632], dtype=int32), 1)"
            ]
          },
          "metadata": {
            "tags": []
          },
          "execution_count": 23
        }
      ]
    },
    {
      "cell_type": "markdown",
      "metadata": {
        "id": "PSsvH0x0ftdA",
        "colab_type": "text"
      },
      "source": [
        "# 3.网络结构搭建及模型训练"
      ]
    },
    {
      "cell_type": "code",
      "metadata": {
        "id": "krVDgS-80bX2",
        "colab_type": "code",
        "colab": {
          "base_uri": "https://localhost:8080/",
          "height": 722
        },
        "outputId": "a408e48f-99c2-4c16-b1d2-9048f442075a"
      },
      "source": [
        "model=Sequential()\n",
        "model.add(Embedding(len(word2Index),embedding_size,input_length=maxlen))\n",
        "model.add(Dropout(0.2))\n",
        "model.add(Conv1D(filters,kernel_size,padding=\"valid\",activation=\"relu\",strides=1))\n",
        "model.add(MaxPooling1D(pool_size))\n",
        "model.add(LSTM(lstm_output_size))\n",
        "model.add(Dense(1))\n",
        "model.add(Activation(\"sigmoid\"))\n",
        "model.compile(loss='binary_crossentropy',\n",
        "              optimizer='adam',\n",
        "              metrics=['accuracy'])\n",
        "print(\"开始训练\")\n",
        "model.fit(X_train,y_train,batch_size=batch_size,epochs=epochs,validation_data=(X_test,y_test))"
      ],
      "execution_count": 25,
      "outputs": [
        {
          "output_type": "stream",
          "text": [
            "开始训练\n",
            "Epoch 1/20\n",
            "132/132 [==============================] - 7s 52ms/step - loss: 0.5400 - accuracy: 0.7119 - val_loss: 0.3388 - val_accuracy: 0.8593\n",
            "Epoch 2/20\n",
            "132/132 [==============================] - 6s 49ms/step - loss: 0.2825 - accuracy: 0.8927 - val_loss: 0.2593 - val_accuracy: 0.9000\n",
            "Epoch 3/20\n",
            "132/132 [==============================] - 6s 49ms/step - loss: 0.1935 - accuracy: 0.9315 - val_loss: 0.2448 - val_accuracy: 0.9090\n",
            "Epoch 4/20\n",
            "132/132 [==============================] - 7s 50ms/step - loss: 0.1301 - accuracy: 0.9563 - val_loss: 0.2737 - val_accuracy: 0.9121\n",
            "Epoch 5/20\n",
            "132/132 [==============================] - 6s 49ms/step - loss: 0.0880 - accuracy: 0.9735 - val_loss: 0.2898 - val_accuracy: 0.9109\n",
            "Epoch 6/20\n",
            "132/132 [==============================] - 7s 50ms/step - loss: 0.0671 - accuracy: 0.9801 - val_loss: 0.2681 - val_accuracy: 0.9168\n",
            "Epoch 7/20\n",
            "132/132 [==============================] - 6s 49ms/step - loss: 0.0486 - accuracy: 0.9857 - val_loss: 0.3014 - val_accuracy: 0.9135\n",
            "Epoch 8/20\n",
            "132/132 [==============================] - 6s 48ms/step - loss: 0.0393 - accuracy: 0.9893 - val_loss: 0.4026 - val_accuracy: 0.8974\n",
            "Epoch 9/20\n",
            "132/132 [==============================] - 6s 48ms/step - loss: 0.0339 - accuracy: 0.9902 - val_loss: 0.3429 - val_accuracy: 0.9012\n",
            "Epoch 10/20\n",
            "132/132 [==============================] - 7s 50ms/step - loss: 0.0308 - accuracy: 0.9916 - val_loss: 0.3690 - val_accuracy: 0.9152\n",
            "Epoch 11/20\n",
            "132/132 [==============================] - 7s 51ms/step - loss: 0.0268 - accuracy: 0.9929 - val_loss: 0.3619 - val_accuracy: 0.9180\n",
            "Epoch 12/20\n",
            "132/132 [==============================] - 7s 49ms/step - loss: 0.0267 - accuracy: 0.9935 - val_loss: 0.3911 - val_accuracy: 0.9069\n",
            "Epoch 13/20\n",
            "132/132 [==============================] - 6s 49ms/step - loss: 0.0236 - accuracy: 0.9940 - val_loss: 0.3927 - val_accuracy: 0.9102\n",
            "Epoch 14/20\n",
            "132/132 [==============================] - 6s 48ms/step - loss: 0.0226 - accuracy: 0.9945 - val_loss: 0.3759 - val_accuracy: 0.9114\n",
            "Epoch 15/20\n",
            "132/132 [==============================] - 6s 49ms/step - loss: 0.0185 - accuracy: 0.9960 - val_loss: 0.4262 - val_accuracy: 0.9036\n",
            "Epoch 16/20\n",
            "132/132 [==============================] - 6s 49ms/step - loss: 0.0203 - accuracy: 0.9947 - val_loss: 0.3755 - val_accuracy: 0.9100\n",
            "Epoch 17/20\n",
            "132/132 [==============================] - 7s 50ms/step - loss: 0.0208 - accuracy: 0.9949 - val_loss: 0.3473 - val_accuracy: 0.9142\n",
            "Epoch 18/20\n",
            "132/132 [==============================] - 6s 49ms/step - loss: 0.0192 - accuracy: 0.9951 - val_loss: 0.3929 - val_accuracy: 0.9154\n",
            "Epoch 19/20\n",
            "132/132 [==============================] - 6s 49ms/step - loss: 0.0192 - accuracy: 0.9950 - val_loss: 0.3900 - val_accuracy: 0.9078\n",
            "Epoch 20/20\n",
            "132/132 [==============================] - 6s 48ms/step - loss: 0.0138 - accuracy: 0.9967 - val_loss: 0.4614 - val_accuracy: 0.9078\n"
          ],
          "name": "stdout"
        },
        {
          "output_type": "execute_result",
          "data": {
            "text/plain": [
              "<tensorflow.python.keras.callbacks.History at 0x7f507f58a208>"
            ]
          },
          "metadata": {
            "tags": []
          },
          "execution_count": 25
        }
      ]
    },
    {
      "cell_type": "code",
      "metadata": {
        "id": "yOMCAugv1zrP",
        "colab_type": "code",
        "colab": {
          "base_uri": "https://localhost:8080/",
          "height": 386
        },
        "outputId": "165ec386-36a6-461c-acb2-110b291fcae5"
      },
      "source": [
        "model.summary()"
      ],
      "execution_count": 26,
      "outputs": [
        {
          "output_type": "stream",
          "text": [
            "Model: \"sequential_3\"\n",
            "_________________________________________________________________\n",
            "Layer (type)                 Output Shape              Param #   \n",
            "=================================================================\n",
            "embedding_2 (Embedding)      (None, 100, 200)          4225600   \n",
            "_________________________________________________________________\n",
            "dropout_2 (Dropout)          (None, 100, 200)          0         \n",
            "_________________________________________________________________\n",
            "conv1d_2 (Conv1D)            (None, 96, 128)           128128    \n",
            "_________________________________________________________________\n",
            "max_pooling1d_2 (MaxPooling1 (None, 24, 128)           0         \n",
            "_________________________________________________________________\n",
            "lstm_2 (LSTM)                (None, 100)               91600     \n",
            "_________________________________________________________________\n",
            "dense_2 (Dense)              (None, 1)                 101       \n",
            "_________________________________________________________________\n",
            "activation_2 (Activation)    (None, 1)                 0         \n",
            "=================================================================\n",
            "Total params: 4,445,429\n",
            "Trainable params: 4,445,429\n",
            "Non-trainable params: 0\n",
            "_________________________________________________________________\n"
          ],
          "name": "stdout"
        }
      ]
    },
    {
      "cell_type": "code",
      "metadata": {
        "id": "99BsIchNhKi-",
        "colab_type": "code",
        "colab": {}
      },
      "source": [
        ""
      ],
      "execution_count": null,
      "outputs": []
    }
  ]
}